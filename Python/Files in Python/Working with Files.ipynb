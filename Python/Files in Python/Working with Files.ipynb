{
 "cells": [
  {
   "cell_type": "code",
   "execution_count": 2,
   "id": "bc917004",
   "metadata": {},
   "outputs": [
    {
     "name": "stdout",
     "output_type": "stream",
     "text": [
      "Hello I am Bappy,\n",
      "welcome to the class\n"
     ]
    }
   ],
   "source": [
    "f = open(\"test1.txt\",\"r\")\n",
    "print(f.read())"
   ]
  },
  {
   "cell_type": "code",
   "execution_count": 9,
   "id": "0a95b449",
   "metadata": {},
   "outputs": [
    {
     "name": "stdout",
     "output_type": "stream",
     "text": [
      "Hello I am Bappy,\n",
      "welcome to the class\n"
     ]
    }
   ],
   "source": [
    "f = open(\"data/test1.txt\",\"r\")\n",
    "print(f.read())"
   ]
  },
  {
   "cell_type": "code",
   "execution_count": 4,
   "id": "fcabf010",
   "metadata": {},
   "outputs": [
    {
     "name": "stdout",
     "output_type": "stream",
     "text": [
      "Hello, How are you.\n"
     ]
    }
   ],
   "source": [
    "f = open(\"test2.txt\",\"r\")\n",
    "print(f.read())"
   ]
  },
  {
   "cell_type": "code",
   "execution_count": 8,
   "id": "44925369",
   "metadata": {},
   "outputs": [
    {
     "name": "stdout",
     "output_type": "stream",
     "text": [
      "Hello I am Bappy,\n",
      "\n"
     ]
    }
   ],
   "source": [
    "f = open(\"data/test1.txt\",\"r\")\n",
    "print(f.readline())\n",
    "# print(f.readline())"
   ]
  },
  {
   "cell_type": "code",
   "execution_count": 7,
   "id": "2e4b97c2",
   "metadata": {},
   "outputs": [
    {
     "name": "stdout",
     "output_type": "stream",
     "text": [
      "Hello I am Bappy,\n",
      "welcome to the class\n"
     ]
    }
   ],
   "source": [
    "## close file - It is a good practice to always close the file when you are done with it.\n",
    "\n",
    "\n",
    "f = open(\"data/test1.txt\",\"r\")\n",
    "print(f.read())\n",
    "f.close()"
   ]
  },
  {
   "cell_type": "code",
   "execution_count": 12,
   "id": "4de5c946",
   "metadata": {},
   "outputs": [
    {
     "name": "stdout",
     "output_type": "stream",
     "text": [
      "(0, 'Hello I am Bappy,\\n')\n",
      "(1, 'welcome to the class')\n"
     ]
    }
   ],
   "source": [
    "f = open(\"data/test1.txt\",\"r\")\n",
    "for i in enumerate(f):\n",
    "    print(i)"
   ]
  },
  {
   "cell_type": "code",
   "execution_count": 16,
   "id": "ce16330c",
   "metadata": {},
   "outputs": [
    {
     "name": "stdout",
     "output_type": "stream",
     "text": [
      "welcome to the class\n"
     ]
    }
   ],
   "source": [
    "f = open(\"data/test1.txt\",\"r\")\n",
    "f = f.readlines() \n",
    "  \n",
    "# read 2nd line from the file \n",
    "print(f[1]) \n",
    "  \n",
    "\n"
   ]
  },
  {
   "cell_type": "code",
   "execution_count": 19,
   "id": "04c47814",
   "metadata": {},
   "outputs": [
    {
     "name": "stdout",
     "output_type": "stream",
     "text": [
      "welcome to the class\n"
     ]
    }
   ],
   "source": [
    "f = open(\"data/test1.txt\",\"r\")\n",
    "print(f.readlines()[1])\n",
    "f.close()"
   ]
  },
  {
   "cell_type": "code",
   "execution_count": 20,
   "id": "8c9db76b",
   "metadata": {},
   "outputs": [
    {
     "name": "stdout",
     "output_type": "stream",
     "text": [
      "Hello I am Bappy,\n",
      "welcome to the class\n"
     ]
    }
   ],
   "source": [
    "with open(\"data/test1.txt\",\"r\") as f:\n",
    "    print(f.read())"
   ]
  },
  {
   "cell_type": "code",
   "execution_count": 28,
   "id": "99e284e1",
   "metadata": {},
   "outputs": [],
   "source": [
    "f = open(\"data/test1.txt\",\"a\")\n",
    "f.write(\"This is python class\")\n",
    "f.close()"
   ]
  },
  {
   "cell_type": "code",
   "execution_count": 29,
   "id": "a3ebcb8f",
   "metadata": {},
   "outputs": [],
   "source": [
    "f = open(\"data/test1.txt\",\"w\")\n",
    "f.write(\"How are you\")\n",
    "f.close()"
   ]
  },
  {
   "cell_type": "code",
   "execution_count": 30,
   "id": "95c11bb2",
   "metadata": {},
   "outputs": [],
   "source": [
    "f = open(\"data/test3.txt\",\"x\")\n",
    "f.close()"
   ]
  },
  {
   "cell_type": "code",
   "execution_count": 31,
   "id": "93a631c1",
   "metadata": {},
   "outputs": [],
   "source": [
    "f = open(\"data/test3.txt\",\"w\")\n",
    "f.write(\"How are you\")\n",
    "f.close()"
   ]
  },
  {
   "cell_type": "code",
   "execution_count": 32,
   "id": "abb155ed",
   "metadata": {},
   "outputs": [
    {
     "name": "stdout",
     "output_type": "stream",
     "text": [
      "How are you\n"
     ]
    }
   ],
   "source": [
    "f = open(\"data/test3.txt\",\"r\")\n",
    "print(f.read())\n",
    "f.close()"
   ]
  },
  {
   "cell_type": "code",
   "execution_count": 33,
   "id": "7d14ddb0",
   "metadata": {},
   "outputs": [],
   "source": [
    "import os"
   ]
  },
  {
   "cell_type": "code",
   "execution_count": 34,
   "id": "46175d9b",
   "metadata": {},
   "outputs": [],
   "source": [
    "os.remove(\"data/test3.txt\")"
   ]
  },
  {
   "cell_type": "code",
   "execution_count": 39,
   "id": "b3b21818",
   "metadata": {},
   "outputs": [],
   "source": [
    "with open(\"data/test5.txt\", \"x\") as f:\n",
    "    pass\n",
    "\n",
    "  "
   ]
  },
  {
   "cell_type": "code",
   "execution_count": null,
   "id": "df80a328",
   "metadata": {},
   "outputs": [],
   "source": []
  }
 ],
 "metadata": {
  "kernelspec": {
   "display_name": "Python 3 (ipykernel)",
   "language": "python",
   "name": "python3"
  },
  "language_info": {
   "codemirror_mode": {
    "name": "ipython",
    "version": 3
   },
   "file_extension": ".py",
   "mimetype": "text/x-python",
   "name": "python",
   "nbconvert_exporter": "python",
   "pygments_lexer": "ipython3",
   "version": "3.9.12"
  }
 },
 "nbformat": 4,
 "nbformat_minor": 5
}
