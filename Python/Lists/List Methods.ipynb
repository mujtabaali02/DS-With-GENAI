{
 "cells": [
  {
   "cell_type": "markdown",
   "id": "df9e8cdf",
   "metadata": {},
   "source": [
    "### append()\n",
    "\n",
    "Adds an element at the end of the list"
   ]
  },
  {
   "cell_type": "code",
   "execution_count": 15,
   "id": "4671cedc",
   "metadata": {},
   "outputs": [],
   "source": [
    "fruits = ['apple', 'banana', 'mango']"
   ]
  },
  {
   "cell_type": "code",
   "execution_count": 16,
   "id": "f9692f7e",
   "metadata": {},
   "outputs": [],
   "source": [
    "fruits.append(\"cherry\")"
   ]
  },
  {
   "cell_type": "code",
   "execution_count": 17,
   "id": "3e0415ca",
   "metadata": {},
   "outputs": [
    {
     "data": {
      "text/plain": [
       "['apple', 'banana', 'mango', 'cherry']"
      ]
     },
     "execution_count": 17,
     "metadata": {},
     "output_type": "execute_result"
    }
   ],
   "source": [
    "fruits"
   ]
  },
  {
   "cell_type": "code",
   "execution_count": 18,
   "id": "55449e74",
   "metadata": {},
   "outputs": [],
   "source": [
    "# fruits.append(['Orange', 'avacado'])"
   ]
  },
  {
   "cell_type": "code",
   "execution_count": 19,
   "id": "bb15880b",
   "metadata": {},
   "outputs": [
    {
     "data": {
      "text/plain": [
       "['apple', 'banana', 'mango', 'cherry']"
      ]
     },
     "execution_count": 19,
     "metadata": {},
     "output_type": "execute_result"
    }
   ],
   "source": [
    "fruits"
   ]
  },
  {
   "cell_type": "code",
   "execution_count": 20,
   "id": "5e74a98d",
   "metadata": {},
   "outputs": [],
   "source": [
    "fruits.append(\"cherry\")\n",
    "fruits.append(\"avacado\")"
   ]
  },
  {
   "cell_type": "code",
   "execution_count": 21,
   "id": "408ecf0a",
   "metadata": {},
   "outputs": [
    {
     "data": {
      "text/plain": [
       "['apple', 'banana', 'mango', 'cherry', 'cherry', 'avacado']"
      ]
     },
     "execution_count": 21,
     "metadata": {},
     "output_type": "execute_result"
    }
   ],
   "source": [
    "fruits"
   ]
  },
  {
   "cell_type": "markdown",
   "id": "2f5114f7",
   "metadata": {},
   "source": [
    "### clear()\n",
    "\n",
    "Removes all the element from the list"
   ]
  },
  {
   "cell_type": "code",
   "execution_count": 22,
   "id": "df58dfe2",
   "metadata": {},
   "outputs": [],
   "source": [
    "fruits = ['apple', 'banana', 'cherry', 'orange']"
   ]
  },
  {
   "cell_type": "code",
   "execution_count": 23,
   "id": "ccf757a7",
   "metadata": {},
   "outputs": [],
   "source": [
    "fruits.clear()"
   ]
  },
  {
   "cell_type": "code",
   "execution_count": 24,
   "id": "c230f1be",
   "metadata": {},
   "outputs": [
    {
     "data": {
      "text/plain": [
       "[]"
      ]
     },
     "execution_count": 24,
     "metadata": {},
     "output_type": "execute_result"
    }
   ],
   "source": [
    "fruits"
   ]
  },
  {
   "cell_type": "markdown",
   "id": "82eb7ec0",
   "metadata": {},
   "source": [
    "### copy()\n",
    "\n",
    "return a copy of the  list"
   ]
  },
  {
   "cell_type": "code",
   "execution_count": 25,
   "id": "e47c5358",
   "metadata": {},
   "outputs": [],
   "source": [
    "fruits = ['apple', 'banana', 'cherry', 'orange']"
   ]
  },
  {
   "cell_type": "code",
   "execution_count": 26,
   "id": "f80fe8b7",
   "metadata": {},
   "outputs": [],
   "source": [
    "temp = fruits.copy()"
   ]
  },
  {
   "cell_type": "code",
   "execution_count": 28,
   "id": "ce3a839f",
   "metadata": {},
   "outputs": [],
   "source": [
    "temp[0] = 'avacado'"
   ]
  },
  {
   "cell_type": "code",
   "execution_count": 29,
   "id": "91a78794",
   "metadata": {},
   "outputs": [
    {
     "data": {
      "text/plain": [
       "['avacado', 'banana', 'cherry', 'orange']"
      ]
     },
     "execution_count": 29,
     "metadata": {},
     "output_type": "execute_result"
    }
   ],
   "source": [
    "temp"
   ]
  },
  {
   "cell_type": "code",
   "execution_count": 30,
   "id": "e718272c",
   "metadata": {},
   "outputs": [
    {
     "data": {
      "text/plain": [
       "['apple', 'banana', 'cherry', 'orange']"
      ]
     },
     "execution_count": 30,
     "metadata": {},
     "output_type": "execute_result"
    }
   ],
   "source": [
    "fruits"
   ]
  },
  {
   "cell_type": "markdown",
   "id": "cdf3ba90",
   "metadata": {},
   "source": [
    "### count()\n",
    "\n",
    "returns the number of element with the specified value"
   ]
  },
  {
   "cell_type": "code",
   "execution_count": 40,
   "id": "822e5550",
   "metadata": {},
   "outputs": [],
   "source": [
    "fruits = ['apple', 'banana', 'cherry','Apple']"
   ]
  },
  {
   "cell_type": "code",
   "execution_count": 41,
   "id": "3a59c8d7",
   "metadata": {},
   "outputs": [
    {
     "data": {
      "text/plain": [
       "1"
      ]
     },
     "execution_count": 41,
     "metadata": {},
     "output_type": "execute_result"
    }
   ],
   "source": [
    "fruits.count('apple')"
   ]
  },
  {
   "cell_type": "code",
   "execution_count": 42,
   "id": "6d882d30",
   "metadata": {},
   "outputs": [],
   "source": [
    "a = \"Bappy\"\n",
    "b = \"bappy\""
   ]
  },
  {
   "cell_type": "code",
   "execution_count": 43,
   "id": "85cf6cfd",
   "metadata": {},
   "outputs": [
    {
     "data": {
      "text/plain": [
       "'bappy'"
      ]
     },
     "execution_count": 43,
     "metadata": {},
     "output_type": "execute_result"
    }
   ],
   "source": [
    "a.lower()"
   ]
  },
  {
   "cell_type": "code",
   "execution_count": 45,
   "id": "474cc37a",
   "metadata": {},
   "outputs": [
    {
     "name": "stdout",
     "output_type": "stream",
     "text": [
      "apple\n",
      "banana\n",
      "cherry\n",
      "apple\n"
     ]
    }
   ],
   "source": [
    "for i in fruits:\n",
    "    print(i.lower())"
   ]
  },
  {
   "cell_type": "code",
   "execution_count": 47,
   "id": "04cc745d",
   "metadata": {},
   "outputs": [],
   "source": [
    "fruits[3] = fruits[3].lower()"
   ]
  },
  {
   "cell_type": "code",
   "execution_count": 48,
   "id": "4a58220f",
   "metadata": {},
   "outputs": [
    {
     "data": {
      "text/plain": [
       "['apple', 'banana', 'cherry', 'apple']"
      ]
     },
     "execution_count": 48,
     "metadata": {},
     "output_type": "execute_result"
    }
   ],
   "source": [
    "fruits"
   ]
  },
  {
   "cell_type": "code",
   "execution_count": 49,
   "id": "7ef6ee3f",
   "metadata": {},
   "outputs": [
    {
     "data": {
      "text/plain": [
       "4"
      ]
     },
     "execution_count": 49,
     "metadata": {},
     "output_type": "execute_result"
    }
   ],
   "source": [
    "len(fruits)"
   ]
  },
  {
   "cell_type": "code",
   "execution_count": 52,
   "id": "4063d663",
   "metadata": {},
   "outputs": [
    {
     "data": {
      "text/plain": [
       "2"
      ]
     },
     "execution_count": 52,
     "metadata": {},
     "output_type": "execute_result"
    }
   ],
   "source": [
    "fruits.count('apple')"
   ]
  },
  {
   "cell_type": "markdown",
   "id": "19b715ab",
   "metadata": {},
   "source": [
    "### extend()\n",
    "\n",
    "Add the elements of a list (or any iterable), to the end of the current list"
   ]
  },
  {
   "cell_type": "code",
   "execution_count": 54,
   "id": "e9075836",
   "metadata": {},
   "outputs": [],
   "source": [
    "fruits = ['apple', 'banana', 'cherry']\n",
    "\n",
    "cars = ['BMW','AUDI', 'Volvo']"
   ]
  },
  {
   "cell_type": "code",
   "execution_count": 55,
   "id": "8dad5668",
   "metadata": {},
   "outputs": [],
   "source": [
    "fruits.extend(cars)"
   ]
  },
  {
   "cell_type": "code",
   "execution_count": 56,
   "id": "5415ce12",
   "metadata": {},
   "outputs": [
    {
     "data": {
      "text/plain": [
       "['apple', 'banana', 'cherry', 'BMW', 'AUDI', 'Volvo']"
      ]
     },
     "execution_count": 56,
     "metadata": {},
     "output_type": "execute_result"
    }
   ],
   "source": [
    "fruits"
   ]
  },
  {
   "cell_type": "markdown",
   "id": "322ff640",
   "metadata": {},
   "source": [
    "### index()\n",
    "\n",
    "Returns the index of the first element with the specified value"
   ]
  },
  {
   "cell_type": "code",
   "execution_count": 61,
   "id": "a70dc984",
   "metadata": {},
   "outputs": [],
   "source": [
    "fruits = ['apple', 'banana', 'cherry']"
   ]
  },
  {
   "cell_type": "code",
   "execution_count": 62,
   "id": "2e45cffc",
   "metadata": {},
   "outputs": [
    {
     "data": {
      "text/plain": [
       "1"
      ]
     },
     "execution_count": 62,
     "metadata": {},
     "output_type": "execute_result"
    }
   ],
   "source": [
    "fruits.index(\"banana\")"
   ]
  },
  {
   "cell_type": "code",
   "execution_count": 63,
   "id": "43a1d231",
   "metadata": {},
   "outputs": [
    {
     "data": {
      "text/plain": [
       "2"
      ]
     },
     "execution_count": 63,
     "metadata": {},
     "output_type": "execute_result"
    }
   ],
   "source": [
    "fruits.index(\"cherry\")"
   ]
  },
  {
   "cell_type": "code",
   "execution_count": 67,
   "id": "3bebf942",
   "metadata": {},
   "outputs": [],
   "source": [
    "fruits = ['apple','apple' ,'banana', 'cherry']"
   ]
  },
  {
   "cell_type": "code",
   "execution_count": 65,
   "id": "2958fa4d",
   "metadata": {},
   "outputs": [
    {
     "data": {
      "text/plain": [
       "0"
      ]
     },
     "execution_count": 65,
     "metadata": {},
     "output_type": "execute_result"
    }
   ],
   "source": [
    "fruits.index(\"apple\")"
   ]
  },
  {
   "cell_type": "code",
   "execution_count": 76,
   "id": "08111f67",
   "metadata": {},
   "outputs": [
    {
     "name": "stdout",
     "output_type": "stream",
     "text": [
      "0\n",
      "0\n",
      "2\n",
      "3\n"
     ]
    }
   ],
   "source": [
    "for i in fruits:\n",
    "    print(fruits.index(i))"
   ]
  },
  {
   "cell_type": "code",
   "execution_count": 85,
   "id": "593db6ce",
   "metadata": {},
   "outputs": [
    {
     "data": {
      "text/plain": [
       "'cherry'"
      ]
     },
     "execution_count": 85,
     "metadata": {},
     "output_type": "execute_result"
    }
   ],
   "source": [
    "fruits[3]"
   ]
  },
  {
   "cell_type": "code",
   "execution_count": 81,
   "id": "998f347f",
   "metadata": {},
   "outputs": [
    {
     "name": "stdout",
     "output_type": "stream",
     "text": [
      "apple: 0\n",
      "apple: 1\n",
      "banana: 2\n",
      "cherry: 3\n"
     ]
    }
   ],
   "source": [
    "for i in range(len(fruits)):\n",
    "    print(f\"{fruits[i]}: {i}\")"
   ]
  },
  {
   "cell_type": "code",
   "execution_count": 79,
   "id": "9ef2c894",
   "metadata": {},
   "outputs": [],
   "source": [
    "b = \"Bappy\""
   ]
  },
  {
   "cell_type": "code",
   "execution_count": 80,
   "id": "22b42323",
   "metadata": {},
   "outputs": [
    {
     "name": "stdout",
     "output_type": "stream",
     "text": [
      "my name is - Bappy\n"
     ]
    }
   ],
   "source": [
    "print(f\"my name is - {b}\")"
   ]
  },
  {
   "cell_type": "code",
   "execution_count": 86,
   "id": "e497f0f7",
   "metadata": {},
   "outputs": [
    {
     "name": "stdout",
     "output_type": "stream",
     "text": [
      "0\n",
      "1\n",
      "2\n",
      "3\n"
     ]
    }
   ],
   "source": [
    "for i in range(len(fruits)):\n",
    "    print(i)"
   ]
  },
  {
   "cell_type": "markdown",
   "id": "2f9e193a",
   "metadata": {},
   "source": [
    "### insert()\n",
    "\n",
    "Adds an element at the specified position"
   ]
  },
  {
   "cell_type": "code",
   "execution_count": 94,
   "id": "71c22ee5",
   "metadata": {},
   "outputs": [],
   "source": [
    "fruits = ['apple', 'banana', 'cherry']"
   ]
  },
  {
   "cell_type": "code",
   "execution_count": 95,
   "id": "0a2d305d",
   "metadata": {},
   "outputs": [],
   "source": [
    "fruits.insert(1,'orange')"
   ]
  },
  {
   "cell_type": "code",
   "execution_count": 96,
   "id": "b5581d98",
   "metadata": {},
   "outputs": [
    {
     "data": {
      "text/plain": [
       "['apple', 'orange', 'banana', 'cherry']"
      ]
     },
     "execution_count": 96,
     "metadata": {},
     "output_type": "execute_result"
    }
   ],
   "source": [
    "fruits"
   ]
  },
  {
   "cell_type": "markdown",
   "id": "aaa73ffc",
   "metadata": {},
   "source": [
    "### pop()\n",
    "\n",
    "Removes the element at the specified position"
   ]
  },
  {
   "cell_type": "code",
   "execution_count": 97,
   "id": "3c620eba",
   "metadata": {},
   "outputs": [],
   "source": [
    "fruits = ['apple', 'banana', 'cherry']"
   ]
  },
  {
   "cell_type": "code",
   "execution_count": 98,
   "id": "60e44c7c",
   "metadata": {},
   "outputs": [
    {
     "data": {
      "text/plain": [
       "'cherry'"
      ]
     },
     "execution_count": 98,
     "metadata": {},
     "output_type": "execute_result"
    }
   ],
   "source": [
    "fruits.pop()"
   ]
  },
  {
   "cell_type": "code",
   "execution_count": 99,
   "id": "e1c0c8ed",
   "metadata": {},
   "outputs": [
    {
     "data": {
      "text/plain": [
       "['apple', 'banana']"
      ]
     },
     "execution_count": 99,
     "metadata": {},
     "output_type": "execute_result"
    }
   ],
   "source": [
    "fruits"
   ]
  },
  {
   "cell_type": "code",
   "execution_count": 100,
   "id": "a7014fcd",
   "metadata": {},
   "outputs": [
    {
     "data": {
      "text/plain": [
       "'apple'"
      ]
     },
     "execution_count": 100,
     "metadata": {},
     "output_type": "execute_result"
    }
   ],
   "source": [
    "fruits.pop(0)"
   ]
  },
  {
   "cell_type": "code",
   "execution_count": 101,
   "id": "534f5839",
   "metadata": {},
   "outputs": [
    {
     "data": {
      "text/plain": [
       "['banana']"
      ]
     },
     "execution_count": 101,
     "metadata": {},
     "output_type": "execute_result"
    }
   ],
   "source": [
    "fruits"
   ]
  },
  {
   "cell_type": "markdown",
   "id": "dcf54e4b",
   "metadata": {},
   "source": [
    "### remove()\n",
    "\n",
    "Removes the first item with the specified value"
   ]
  },
  {
   "cell_type": "code",
   "execution_count": 136,
   "id": "f4834c01",
   "metadata": {},
   "outputs": [],
   "source": [
    "fruits = ['apple', 'apple','banana', 'cherry','avacado']"
   ]
  },
  {
   "cell_type": "code",
   "execution_count": 118,
   "id": "4bc9f6d5",
   "metadata": {},
   "outputs": [],
   "source": [
    "fruits.remove('banana')"
   ]
  },
  {
   "cell_type": "code",
   "execution_count": 119,
   "id": "46e9432e",
   "metadata": {},
   "outputs": [
    {
     "data": {
      "text/plain": [
       "['apple', 'apple', 'cherry', 'avacado']"
      ]
     },
     "execution_count": 119,
     "metadata": {},
     "output_type": "execute_result"
    }
   ],
   "source": [
    "fruits"
   ]
  },
  {
   "cell_type": "code",
   "execution_count": 148,
   "id": "173f8400",
   "metadata": {},
   "outputs": [],
   "source": [
    "temp=[]\n",
    "\n",
    "for i in fruits:\n",
    "    if i == 'apple':\n",
    "        pass\n",
    "    \n",
    "    else:\n",
    "        temp.append(i)\n",
    "        "
   ]
  },
  {
   "cell_type": "code",
   "execution_count": 149,
   "id": "fa8d561a",
   "metadata": {},
   "outputs": [
    {
     "data": {
      "text/plain": [
       "['banana', 'cherry', 'avacado']"
      ]
     },
     "execution_count": 149,
     "metadata": {},
     "output_type": "execute_result"
    }
   ],
   "source": [
    "temp"
   ]
  },
  {
   "cell_type": "markdown",
   "id": "5ab46518",
   "metadata": {},
   "source": [
    "### reverse()\n",
    "\n",
    "Reverses the order of the list"
   ]
  },
  {
   "cell_type": "code",
   "execution_count": 154,
   "id": "36087eec",
   "metadata": {},
   "outputs": [],
   "source": [
    "fruits = ['apple', 'banana', 'cherry']"
   ]
  },
  {
   "cell_type": "code",
   "execution_count": 155,
   "id": "320d22d0",
   "metadata": {},
   "outputs": [],
   "source": [
    "fruits.reverse()"
   ]
  },
  {
   "cell_type": "code",
   "execution_count": 158,
   "id": "b1adeec8",
   "metadata": {},
   "outputs": [
    {
     "data": {
      "text/plain": [
       "['cherry', 'banana', 'apple']"
      ]
     },
     "execution_count": 158,
     "metadata": {},
     "output_type": "execute_result"
    }
   ],
   "source": [
    "fruits"
   ]
  },
  {
   "cell_type": "code",
   "execution_count": 160,
   "id": "e09f900c",
   "metadata": {},
   "outputs": [],
   "source": [
    "# fruits[ : : -1]"
   ]
  },
  {
   "cell_type": "markdown",
   "id": "25914519",
   "metadata": {},
   "source": [
    "### sort()\n",
    "Sorts the list"
   ]
  },
  {
   "cell_type": "code",
   "execution_count": 161,
   "id": "9da2e0a0",
   "metadata": {},
   "outputs": [],
   "source": [
    "cars = ['BMW','AUDI', 'Volvo']"
   ]
  },
  {
   "cell_type": "code",
   "execution_count": 162,
   "id": "41ed01f3",
   "metadata": {},
   "outputs": [],
   "source": [
    "cars.sort()"
   ]
  },
  {
   "cell_type": "code",
   "execution_count": 163,
   "id": "a8ef5d1f",
   "metadata": {},
   "outputs": [
    {
     "data": {
      "text/plain": [
       "['AUDI', 'BMW', 'Volvo']"
      ]
     },
     "execution_count": 163,
     "metadata": {},
     "output_type": "execute_result"
    }
   ],
   "source": [
    "cars"
   ]
  },
  {
   "cell_type": "code",
   "execution_count": 164,
   "id": "e7c07cb7",
   "metadata": {},
   "outputs": [],
   "source": [
    "cars = [10,3,4,5,9]"
   ]
  },
  {
   "cell_type": "code",
   "execution_count": 165,
   "id": "2f349616",
   "metadata": {},
   "outputs": [],
   "source": [
    "cars.sort()"
   ]
  },
  {
   "cell_type": "code",
   "execution_count": 166,
   "id": "b3e45139",
   "metadata": {},
   "outputs": [
    {
     "data": {
      "text/plain": [
       "[3, 4, 5, 9, 10]"
      ]
     },
     "execution_count": 166,
     "metadata": {},
     "output_type": "execute_result"
    }
   ],
   "source": [
    "cars"
   ]
  },
  {
   "cell_type": "code",
   "execution_count": 167,
   "id": "10eb44bc",
   "metadata": {},
   "outputs": [],
   "source": [
    "numbers = [7, 3, 11, 2, 5]\n",
    "\n",
    "# reverse is set to True\n",
    "numbers.sort(reverse = True)"
   ]
  },
  {
   "cell_type": "code",
   "execution_count": 168,
   "id": "799589cd",
   "metadata": {},
   "outputs": [
    {
     "data": {
      "text/plain": [
       "[11, 7, 5, 3, 2]"
      ]
     },
     "execution_count": 168,
     "metadata": {},
     "output_type": "execute_result"
    }
   ],
   "source": [
    "numbers"
   ]
  },
  {
   "cell_type": "code",
   "execution_count": null,
   "id": "7126f53e",
   "metadata": {},
   "outputs": [],
   "source": []
  }
 ],
 "metadata": {
  "kernelspec": {
   "display_name": "Python 3 (ipykernel)",
   "language": "python",
   "name": "python3"
  },
  "language_info": {
   "codemirror_mode": {
    "name": "ipython",
    "version": 3
   },
   "file_extension": ".py",
   "mimetype": "text/x-python",
   "name": "python",
   "nbconvert_exporter": "python",
   "pygments_lexer": "ipython3",
   "version": "3.9.12"
  }
 },
 "nbformat": 4,
 "nbformat_minor": 5
}
