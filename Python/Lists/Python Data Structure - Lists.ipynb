{
 "cells": [
  {
   "cell_type": "code",
   "execution_count": 1,
   "id": "c92c77b0",
   "metadata": {},
   "outputs": [],
   "source": [
    "lis1 = [1,2,3,4,5]"
   ]
  },
  {
   "cell_type": "code",
   "execution_count": 2,
   "id": "c7fe4b21",
   "metadata": {},
   "outputs": [
    {
     "name": "stdout",
     "output_type": "stream",
     "text": [
      "[1, 2, 3, 4, 5]\n"
     ]
    }
   ],
   "source": [
    "print(lis1)"
   ]
  },
  {
   "cell_type": "code",
   "execution_count": 3,
   "id": "63f40914",
   "metadata": {},
   "outputs": [
    {
     "data": {
      "text/plain": [
       "list"
      ]
     },
     "execution_count": 3,
     "metadata": {},
     "output_type": "execute_result"
    }
   ],
   "source": [
    "type(lis1)"
   ]
  },
  {
   "cell_type": "code",
   "execution_count": 4,
   "id": "40625e67",
   "metadata": {},
   "outputs": [
    {
     "name": "stdout",
     "output_type": "stream",
     "text": [
      "2\n"
     ]
    },
    {
     "data": {
      "text/plain": [
       "int"
      ]
     },
     "execution_count": 4,
     "metadata": {},
     "output_type": "execute_result"
    }
   ],
   "source": [
    "a = 2\n",
    "print(a)\n",
    "type(a)"
   ]
  },
  {
   "cell_type": "code",
   "execution_count": 5,
   "id": "a708b777",
   "metadata": {},
   "outputs": [
    {
     "data": {
      "text/plain": [
       "['Bappy', 'Alex', 'Sunny', 'Krish']"
      ]
     },
     "execution_count": 5,
     "metadata": {},
     "output_type": "execute_result"
    }
   ],
   "source": [
    "lst1 = ['Bappy', 'Alex', 'Sunny', 'Krish']\n",
    "lst1"
   ]
  },
  {
   "cell_type": "code",
   "execution_count": 6,
   "id": "be78ec4b",
   "metadata": {},
   "outputs": [
    {
     "data": {
      "text/plain": [
       "list"
      ]
     },
     "execution_count": 6,
     "metadata": {},
     "output_type": "execute_result"
    }
   ],
   "source": [
    "type(lst1)"
   ]
  },
  {
   "cell_type": "code",
   "execution_count": 8,
   "id": "32746c0e",
   "metadata": {},
   "outputs": [
    {
     "name": "stdout",
     "output_type": "stream",
     "text": [
      "['Bappy', 1, 0.3, True]\n"
     ]
    },
    {
     "data": {
      "text/plain": [
       "list"
      ]
     },
     "execution_count": 8,
     "metadata": {},
     "output_type": "execute_result"
    }
   ],
   "source": [
    "lst2 = ['Bappy', 1, 0.3, True]\n",
    "print(lst2)\n",
    "type(lst2)"
   ]
  },
  {
   "cell_type": "markdown",
   "id": "ff05101a",
   "metadata": {},
   "source": [
    "### List Index"
   ]
  },
  {
   "cell_type": "code",
   "execution_count": 17,
   "id": "94c9396b",
   "metadata": {},
   "outputs": [],
   "source": [
    "color = ['Red', 'Green', 'Blue', 'Yellow',\"Gray\"]"
   ]
  },
  {
   "cell_type": "code",
   "execution_count": 11,
   "id": "e4fc982a",
   "metadata": {},
   "outputs": [],
   "source": [
    "red_color = color[0]"
   ]
  },
  {
   "cell_type": "code",
   "execution_count": 12,
   "id": "7ec17393",
   "metadata": {},
   "outputs": [
    {
     "data": {
      "text/plain": [
       "'Red'"
      ]
     },
     "execution_count": 12,
     "metadata": {},
     "output_type": "execute_result"
    }
   ],
   "source": [
    "red_color"
   ]
  },
  {
   "cell_type": "code",
   "execution_count": 19,
   "id": "8e659baf",
   "metadata": {},
   "outputs": [
    {
     "name": "stdout",
     "output_type": "stream",
     "text": [
      "Blue\n",
      "Yellow\n",
      "Gray\n"
     ]
    },
    {
     "ename": "IndexError",
     "evalue": "list index out of range",
     "output_type": "error",
     "traceback": [
      "\u001b[1;31m---------------------------------------------------------------------------\u001b[0m",
      "\u001b[1;31mIndexError\u001b[0m                                Traceback (most recent call last)",
      "Input \u001b[1;32mIn [19]\u001b[0m, in \u001b[0;36m<cell line: 4>\u001b[1;34m()\u001b[0m\n\u001b[0;32m      2\u001b[0m \u001b[38;5;28mprint\u001b[39m(color[\u001b[38;5;241m3\u001b[39m])\n\u001b[0;32m      3\u001b[0m \u001b[38;5;28mprint\u001b[39m(color[\u001b[38;5;241m4\u001b[39m])\n\u001b[1;32m----> 4\u001b[0m \u001b[38;5;28mprint\u001b[39m(\u001b[43mcolor\u001b[49m\u001b[43m[\u001b[49m\u001b[38;5;241;43m5\u001b[39;49m\u001b[43m]\u001b[49m)\n",
      "\u001b[1;31mIndexError\u001b[0m: list index out of range"
     ]
    }
   ],
   "source": [
    "print(color[2])\n",
    "print(color[3])\n",
    "print(color[4])\n",
    "print(color[5])"
   ]
  },
  {
   "cell_type": "code",
   "execution_count": 20,
   "id": "2c8f0f6e",
   "metadata": {},
   "outputs": [
    {
     "ename": "SyntaxError",
     "evalue": "invalid syntax (758555796.py, line 1)",
     "output_type": "error",
     "traceback": [
      "\u001b[1;36m  Input \u001b[1;32mIn [20]\u001b[1;36m\u001b[0m\n\u001b[1;33m    print(color[])\u001b[0m\n\u001b[1;37m                ^\u001b[0m\n\u001b[1;31mSyntaxError\u001b[0m\u001b[1;31m:\u001b[0m invalid syntax\n"
     ]
    }
   ],
   "source": [
    "print(color[])"
   ]
  },
  {
   "cell_type": "code",
   "execution_count": 21,
   "id": "11d8d422",
   "metadata": {},
   "outputs": [
    {
     "data": {
      "text/plain": [
       "['Red', 'Green', 'Blue', 'Yellow', 'Gray']"
      ]
     },
     "execution_count": 21,
     "metadata": {},
     "output_type": "execute_result"
    }
   ],
   "source": [
    "color"
   ]
  },
  {
   "cell_type": "code",
   "execution_count": 25,
   "id": "6cc8960b",
   "metadata": {},
   "outputs": [
    {
     "data": {
      "text/plain": [
       "5"
      ]
     },
     "execution_count": 25,
     "metadata": {},
     "output_type": "execute_result"
    }
   ],
   "source": [
    "len(color)"
   ]
  },
  {
   "cell_type": "code",
   "execution_count": 26,
   "id": "e19dc253",
   "metadata": {},
   "outputs": [
    {
     "data": {
      "text/plain": [
       "3"
      ]
     },
     "execution_count": 26,
     "metadata": {},
     "output_type": "execute_result"
    }
   ],
   "source": [
    "5 -2"
   ]
  },
  {
   "cell_type": "code",
   "execution_count": 22,
   "id": "b4e53595",
   "metadata": {},
   "outputs": [
    {
     "name": "stdout",
     "output_type": "stream",
     "text": [
      "Gray\n"
     ]
    }
   ],
   "source": [
    "print(color[-1])"
   ]
  },
  {
   "cell_type": "code",
   "execution_count": 23,
   "id": "b4326496",
   "metadata": {},
   "outputs": [
    {
     "name": "stdout",
     "output_type": "stream",
     "text": [
      "Yellow\n"
     ]
    }
   ],
   "source": [
    "print(color[-2])"
   ]
  },
  {
   "cell_type": "code",
   "execution_count": 24,
   "id": "4d52b101",
   "metadata": {},
   "outputs": [
    {
     "name": "stdout",
     "output_type": "stream",
     "text": [
      "Yellow\n"
     ]
    }
   ],
   "source": [
    "print(color[3])"
   ]
  },
  {
   "cell_type": "code",
   "execution_count": 27,
   "id": "ef7e74a4",
   "metadata": {},
   "outputs": [
    {
     "name": "stdout",
     "output_type": "stream",
     "text": [
      "Yellow\n"
     ]
    }
   ],
   "source": [
    "print(color[len(color)-2])"
   ]
  },
  {
   "cell_type": "code",
   "execution_count": 32,
   "id": "f43a4f03",
   "metadata": {},
   "outputs": [],
   "source": [
    "color = ['Red', 'Green', 'Blue', 'Yellow',\"Gray\"]"
   ]
  },
  {
   "cell_type": "code",
   "execution_count": 33,
   "id": "be51d2be",
   "metadata": {},
   "outputs": [
    {
     "name": "stdout",
     "output_type": "stream",
     "text": [
      "yes\n"
     ]
    }
   ],
   "source": [
    "if \"Red\" in color:\n",
    "    print(\"yes\")\n",
    "else:\n",
    "    print(\"No\")"
   ]
  },
  {
   "cell_type": "code",
   "execution_count": 35,
   "id": "ed5fd71b",
   "metadata": {},
   "outputs": [
    {
     "data": {
      "text/plain": [
       "5"
      ]
     },
     "execution_count": 35,
     "metadata": {},
     "output_type": "execute_result"
    }
   ],
   "source": [
    "len(color)"
   ]
  },
  {
   "cell_type": "code",
   "execution_count": 39,
   "id": "c4229b7d",
   "metadata": {},
   "outputs": [
    {
     "name": "stdout",
     "output_type": "stream",
     "text": [
      "0 Red\n",
      "1 Green\n",
      "2 Blue\n",
      "3 Yellow\n",
      "4 Gray\n"
     ]
    }
   ],
   "source": [
    "for i in range(len(color)):\n",
    "    print(i,color[i])"
   ]
  },
  {
   "cell_type": "markdown",
   "id": "c7d23a65",
   "metadata": {},
   "source": [
    "### Range of Index"
   ]
  },
  {
   "cell_type": "code",
   "execution_count": 53,
   "id": "41a4fc95",
   "metadata": {},
   "outputs": [
    {
     "data": {
      "text/plain": [
       "['Red', 'Green', 'Blue', 'Yellow', 'Gray']"
      ]
     },
     "execution_count": 53,
     "metadata": {},
     "output_type": "execute_result"
    }
   ],
   "source": [
    "color = ['Red', 'Green', 'Blue', 'Yellow',\"Gray\"]\n",
    "color"
   ]
  },
  {
   "cell_type": "code",
   "execution_count": 41,
   "id": "718b5c9f",
   "metadata": {},
   "outputs": [
    {
     "name": "stdout",
     "output_type": "stream",
     "text": [
      "Red\n",
      "Green\n",
      "Blue\n"
     ]
    }
   ],
   "source": [
    "print(color[0])\n",
    "print(color[1])\n",
    "print(color[2])"
   ]
  },
  {
   "cell_type": "code",
   "execution_count": 44,
   "id": "f77d7782",
   "metadata": {},
   "outputs": [
    {
     "data": {
      "text/plain": [
       "['Red', 'Green', 'Blue']"
      ]
     },
     "execution_count": 44,
     "metadata": {},
     "output_type": "execute_result"
    }
   ],
   "source": [
    "color[0:3]"
   ]
  },
  {
   "cell_type": "code",
   "execution_count": 51,
   "id": "0938fba6",
   "metadata": {},
   "outputs": [
    {
     "data": {
      "text/plain": [
       "['Red', 'Blue']"
      ]
     },
     "execution_count": 51,
     "metadata": {},
     "output_type": "execute_result"
    }
   ],
   "source": [
    "color[0:3:2]"
   ]
  },
  {
   "cell_type": "code",
   "execution_count": 56,
   "id": "c9f07065",
   "metadata": {},
   "outputs": [
    {
     "data": {
      "text/plain": [
       "['Red', 'Green', 'Blue', 'Yellow', 'Gray']"
      ]
     },
     "execution_count": 56,
     "metadata": {},
     "output_type": "execute_result"
    }
   ],
   "source": [
    "color[:]"
   ]
  },
  {
   "cell_type": "code",
   "execution_count": 57,
   "id": "38f90f2c",
   "metadata": {},
   "outputs": [
    {
     "data": {
      "text/plain": [
       "['Red', 'Blue', 'Gray']"
      ]
     },
     "execution_count": 57,
     "metadata": {},
     "output_type": "execute_result"
    }
   ],
   "source": [
    "color[0:len(color):2]"
   ]
  },
  {
   "cell_type": "code",
   "execution_count": 58,
   "id": "19f94dab",
   "metadata": {},
   "outputs": [],
   "source": [
    "color = ['Red', 'Green', 'Blue', 'Yellow',\"Gray\"]"
   ]
  },
  {
   "cell_type": "code",
   "execution_count": 62,
   "id": "f24edca0",
   "metadata": {},
   "outputs": [
    {
     "name": "stdout",
     "output_type": "stream",
     "text": [
      "Yes\n"
     ]
    }
   ],
   "source": [
    "for i in color:\n",
    "    if i == 'Red':\n",
    "        print(\"Yes\")\n",
    " "
   ]
  },
  {
   "cell_type": "code",
   "execution_count": 68,
   "id": "89f686b0",
   "metadata": {},
   "outputs": [
    {
     "data": {
      "text/plain": [
       "0"
      ]
     },
     "execution_count": 68,
     "metadata": {},
     "output_type": "execute_result"
    }
   ],
   "source": [
    "2%2"
   ]
  },
  {
   "cell_type": "code",
   "execution_count": 63,
   "id": "523a220d",
   "metadata": {},
   "outputs": [],
   "source": [
    "num = [1,2,3,4,5,6,7,8,9,10]"
   ]
  },
  {
   "cell_type": "code",
   "execution_count": 66,
   "id": "7a5da6cb",
   "metadata": {},
   "outputs": [
    {
     "name": "stdout",
     "output_type": "stream",
     "text": [
      "odd\n",
      "Even\n",
      "odd\n",
      "Even\n",
      "odd\n",
      "Even\n",
      "odd\n",
      "Even\n",
      "odd\n",
      "Even\n"
     ]
    }
   ],
   "source": [
    "for i in num:\n",
    "    if i%2==0:\n",
    "        print(\"Even\")\n",
    "    else:\n",
    "        print(\"odd\")"
   ]
  },
  {
   "cell_type": "code",
   "execution_count": 69,
   "id": "3aea8295",
   "metadata": {},
   "outputs": [],
   "source": [
    "num = [1,2,3,4,5,6,7,8,9,10]"
   ]
  },
  {
   "cell_type": "code",
   "execution_count": 70,
   "id": "f1c1b6e7",
   "metadata": {},
   "outputs": [],
   "source": [
    "num[9] = 20"
   ]
  },
  {
   "cell_type": "code",
   "execution_count": 71,
   "id": "6496a1d1",
   "metadata": {},
   "outputs": [
    {
     "data": {
      "text/plain": [
       "[1, 2, 3, 4, 5, 6, 7, 8, 9, 20]"
      ]
     },
     "execution_count": 71,
     "metadata": {},
     "output_type": "execute_result"
    }
   ],
   "source": [
    "num"
   ]
  },
  {
   "cell_type": "code",
   "execution_count": 72,
   "id": "7e60898b",
   "metadata": {},
   "outputs": [],
   "source": [
    "color = ['Red', 'Green', 'Blue', 'Yellow',\"Gray\"]"
   ]
  },
  {
   "cell_type": "code",
   "execution_count": 73,
   "id": "62a1cab8",
   "metadata": {},
   "outputs": [],
   "source": [
    "color[4] = \"White\""
   ]
  },
  {
   "cell_type": "code",
   "execution_count": 74,
   "id": "29fd0721",
   "metadata": {},
   "outputs": [
    {
     "data": {
      "text/plain": [
       "['Red', 'Green', 'Blue', 'Yellow', 'White']"
      ]
     },
     "execution_count": 74,
     "metadata": {},
     "output_type": "execute_result"
    }
   ],
   "source": [
    "color"
   ]
  },
  {
   "cell_type": "code",
   "execution_count": 79,
   "id": "ca3dbc06",
   "metadata": {},
   "outputs": [
    {
     "data": {
      "text/plain": [
       "0.5"
      ]
     },
     "execution_count": 79,
     "metadata": {},
     "output_type": "execute_result"
    }
   ],
   "source": [
    "output = num[0] / num[1]\n",
    "output"
   ]
  },
  {
   "cell_type": "code",
   "execution_count": 81,
   "id": "9252335d",
   "metadata": {},
   "outputs": [
    {
     "data": {
      "text/plain": [
       "'RedGreen'"
      ]
     },
     "execution_count": 81,
     "metadata": {},
     "output_type": "execute_result"
    }
   ],
   "source": [
    "color[0] + color[1] "
   ]
  },
  {
   "cell_type": "markdown",
   "id": "e27c5f0a",
   "metadata": {},
   "source": [
    "### List Comprehension"
   ]
  },
  {
   "cell_type": "code",
   "execution_count": 91,
   "id": "188a9354",
   "metadata": {},
   "outputs": [],
   "source": [
    "lis = [0,1,2,3,4,5,6,7,8,9]"
   ]
  },
  {
   "cell_type": "code",
   "execution_count": 92,
   "id": "9fb06f11",
   "metadata": {},
   "outputs": [
    {
     "data": {
      "text/plain": [
       "[0, 1, 2, 3, 4, 5, 6, 7, 8, 9]"
      ]
     },
     "execution_count": 92,
     "metadata": {},
     "output_type": "execute_result"
    }
   ],
   "source": [
    "lis"
   ]
  },
  {
   "cell_type": "code",
   "execution_count": 93,
   "id": "5d0b15b0",
   "metadata": {},
   "outputs": [
    {
     "data": {
      "text/plain": [
       "list"
      ]
     },
     "execution_count": 93,
     "metadata": {},
     "output_type": "execute_result"
    }
   ],
   "source": [
    "type(lis)"
   ]
  },
  {
   "cell_type": "code",
   "execution_count": 97,
   "id": "cfc60919",
   "metadata": {},
   "outputs": [
    {
     "name": "stdout",
     "output_type": "stream",
     "text": [
      "0\n",
      "1\n",
      "2\n",
      "3\n",
      "4\n",
      "5\n",
      "6\n",
      "7\n",
      "8\n",
      "9\n"
     ]
    }
   ],
   "source": [
    "for i in range(10):\n",
    "    print(i)"
   ]
  },
  {
   "cell_type": "code",
   "execution_count": 95,
   "id": "227a4450",
   "metadata": {},
   "outputs": [],
   "source": [
    "lis1 = [i for i in range(10) if i%2==0]"
   ]
  },
  {
   "cell_type": "code",
   "execution_count": 96,
   "id": "52e6de9b",
   "metadata": {},
   "outputs": [
    {
     "data": {
      "text/plain": [
       "[0, 2, 4, 6, 8]"
      ]
     },
     "execution_count": 96,
     "metadata": {},
     "output_type": "execute_result"
    }
   ],
   "source": [
    "lis1"
   ]
  },
  {
   "cell_type": "code",
   "execution_count": 94,
   "id": "fa3df5d5",
   "metadata": {},
   "outputs": [
    {
     "data": {
      "text/plain": [
       "list"
      ]
     },
     "execution_count": 94,
     "metadata": {},
     "output_type": "execute_result"
    }
   ],
   "source": [
    "type(lis1)"
   ]
  },
  {
   "cell_type": "code",
   "execution_count": 101,
   "id": "2bd212a8",
   "metadata": {},
   "outputs": [],
   "source": [
    "lis1 = [\"yes\" if i%2==0 else \"no\" for i in range(10)]"
   ]
  },
  {
   "cell_type": "code",
   "execution_count": 102,
   "id": "d095378e",
   "metadata": {},
   "outputs": [
    {
     "data": {
      "text/plain": [
       "['yes', 'no', 'yes', 'no', 'yes', 'no', 'yes', 'no', 'yes', 'no']"
      ]
     },
     "execution_count": 102,
     "metadata": {},
     "output_type": "execute_result"
    }
   ],
   "source": [
    "lis1"
   ]
  },
  {
   "cell_type": "code",
   "execution_count": 108,
   "id": "fd4f7d08",
   "metadata": {},
   "outputs": [],
   "source": [
    "lis2= [i for i in range(10) if i%2==0]"
   ]
  },
  {
   "cell_type": "code",
   "execution_count": 109,
   "id": "d4038373",
   "metadata": {},
   "outputs": [
    {
     "data": {
      "text/plain": [
       "[0, 2, 4, 6, 8]"
      ]
     },
     "execution_count": 109,
     "metadata": {},
     "output_type": "execute_result"
    }
   ],
   "source": [
    "lis2"
   ]
  },
  {
   "cell_type": "code",
   "execution_count": null,
   "id": "8b399d08",
   "metadata": {},
   "outputs": [],
   "source": []
  }
 ],
 "metadata": {
  "kernelspec": {
   "display_name": "Python 3 (ipykernel)",
   "language": "python",
   "name": "python3"
  },
  "language_info": {
   "codemirror_mode": {
    "name": "ipython",
    "version": 3
   },
   "file_extension": ".py",
   "mimetype": "text/x-python",
   "name": "python",
   "nbconvert_exporter": "python",
   "pygments_lexer": "ipython3",
   "version": "3.9.12"
  }
 },
 "nbformat": 4,
 "nbformat_minor": 5
}
