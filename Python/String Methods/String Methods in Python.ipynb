{
 "cells": [
  {
   "cell_type": "code",
   "execution_count": 1,
   "id": "a91bace0",
   "metadata": {},
   "outputs": [],
   "source": [
    "name = \"bappy\""
   ]
  },
  {
   "cell_type": "code",
   "execution_count": 2,
   "id": "bccf08ea",
   "metadata": {},
   "outputs": [
    {
     "data": {
      "text/plain": [
       "str"
      ]
     },
     "execution_count": 2,
     "metadata": {},
     "output_type": "execute_result"
    }
   ],
   "source": [
    "type(name)"
   ]
  },
  {
   "cell_type": "code",
   "execution_count": 3,
   "id": "edbfb5be",
   "metadata": {},
   "outputs": [
    {
     "data": {
      "text/plain": [
       "'a'"
      ]
     },
     "execution_count": 3,
     "metadata": {},
     "output_type": "execute_result"
    }
   ],
   "source": [
    "name[1]"
   ]
  },
  {
   "cell_type": "code",
   "execution_count": 4,
   "id": "514e1773",
   "metadata": {},
   "outputs": [
    {
     "data": {
      "text/plain": [
       "str"
      ]
     },
     "execution_count": 4,
     "metadata": {},
     "output_type": "execute_result"
    }
   ],
   "source": [
    "type(name[1])"
   ]
  },
  {
   "cell_type": "code",
   "execution_count": 5,
   "id": "55947dec",
   "metadata": {},
   "outputs": [
    {
     "data": {
      "text/plain": [
       "'y'"
      ]
     },
     "execution_count": 5,
     "metadata": {},
     "output_type": "execute_result"
    }
   ],
   "source": [
    "name[-1]"
   ]
  },
  {
   "cell_type": "markdown",
   "id": "b84d89ff",
   "metadata": {},
   "source": [
    "### upper()"
   ]
  },
  {
   "cell_type": "code",
   "execution_count": 6,
   "id": "8812f36e",
   "metadata": {},
   "outputs": [],
   "source": [
    "str1 = \"Bappy\""
   ]
  },
  {
   "cell_type": "code",
   "execution_count": 14,
   "id": "4a46ed8f",
   "metadata": {},
   "outputs": [
    {
     "data": {
      "text/plain": [
       "'Bappy'"
      ]
     },
     "execution_count": 14,
     "metadata": {},
     "output_type": "execute_result"
    }
   ],
   "source": [
    "str1"
   ]
  },
  {
   "cell_type": "code",
   "execution_count": 7,
   "id": "33e973dd",
   "metadata": {},
   "outputs": [
    {
     "data": {
      "text/plain": [
       "'BAPPY'"
      ]
     },
     "execution_count": 7,
     "metadata": {},
     "output_type": "execute_result"
    }
   ],
   "source": [
    "str1.upper()"
   ]
  },
  {
   "cell_type": "code",
   "execution_count": 8,
   "id": "c0aaf814",
   "metadata": {},
   "outputs": [],
   "source": [
    "str2 = \"BaPpY\""
   ]
  },
  {
   "cell_type": "code",
   "execution_count": 9,
   "id": "a744fc68",
   "metadata": {},
   "outputs": [
    {
     "data": {
      "text/plain": [
       "'BAPPY'"
      ]
     },
     "execution_count": 9,
     "metadata": {},
     "output_type": "execute_result"
    }
   ],
   "source": [
    "str2.upper()"
   ]
  },
  {
   "cell_type": "code",
   "execution_count": 10,
   "id": "45d6c665",
   "metadata": {},
   "outputs": [],
   "source": [
    "str3 = \"Python\""
   ]
  },
  {
   "cell_type": "code",
   "execution_count": 11,
   "id": "e9abf915",
   "metadata": {},
   "outputs": [
    {
     "data": {
      "text/plain": [
       "'PYTHON'"
      ]
     },
     "execution_count": 11,
     "metadata": {},
     "output_type": "execute_result"
    }
   ],
   "source": [
    "str3.upper()"
   ]
  },
  {
   "cell_type": "code",
   "execution_count": 12,
   "id": "e1ea2040",
   "metadata": {},
   "outputs": [],
   "source": [
    "str4 = \"Python is very powerfull programming language\""
   ]
  },
  {
   "cell_type": "code",
   "execution_count": 13,
   "id": "54442a4d",
   "metadata": {},
   "outputs": [
    {
     "data": {
      "text/plain": [
       "'PYTHON IS VERY POWERFULL PROGRAMMING LANGUAGE'"
      ]
     },
     "execution_count": 13,
     "metadata": {},
     "output_type": "execute_result"
    }
   ],
   "source": [
    "str4.upper()"
   ]
  },
  {
   "cell_type": "code",
   "execution_count": 15,
   "id": "7af641e7",
   "metadata": {},
   "outputs": [],
   "source": [
    "str5 = \"Python\""
   ]
  },
  {
   "cell_type": "code",
   "execution_count": 18,
   "id": "ba3d8761",
   "metadata": {},
   "outputs": [],
   "source": [
    "str5 = str5.upper()"
   ]
  },
  {
   "cell_type": "code",
   "execution_count": 19,
   "id": "e22764a2",
   "metadata": {},
   "outputs": [
    {
     "data": {
      "text/plain": [
       "'PYTHON'"
      ]
     },
     "execution_count": 19,
     "metadata": {},
     "output_type": "execute_result"
    }
   ],
   "source": [
    "str5"
   ]
  },
  {
   "cell_type": "code",
   "execution_count": 20,
   "id": "e79adef2",
   "metadata": {},
   "outputs": [
    {
     "data": {
      "text/plain": [
       "str"
      ]
     },
     "execution_count": 20,
     "metadata": {},
     "output_type": "execute_result"
    }
   ],
   "source": [
    "str6 = \"1234\"\n",
    "type(str6)"
   ]
  },
  {
   "cell_type": "code",
   "execution_count": 21,
   "id": "9d85b2d1",
   "metadata": {},
   "outputs": [
    {
     "data": {
      "text/plain": [
       "str"
      ]
     },
     "execution_count": 21,
     "metadata": {},
     "output_type": "execute_result"
    }
   ],
   "source": [
    "str6 = '1234'\n",
    "type(str6)"
   ]
  },
  {
   "cell_type": "markdown",
   "id": "495966a7",
   "metadata": {},
   "source": [
    "### lower()"
   ]
  },
  {
   "cell_type": "code",
   "execution_count": 22,
   "id": "5c5a8f00",
   "metadata": {},
   "outputs": [],
   "source": [
    "str6 = '1234'"
   ]
  },
  {
   "cell_type": "code",
   "execution_count": 23,
   "id": "aed1d295",
   "metadata": {},
   "outputs": [
    {
     "data": {
      "text/plain": [
       "'12'"
      ]
     },
     "execution_count": 23,
     "metadata": {},
     "output_type": "execute_result"
    }
   ],
   "source": [
    "str6[0:2]"
   ]
  },
  {
   "cell_type": "code",
   "execution_count": 24,
   "id": "c39d3938",
   "metadata": {},
   "outputs": [],
   "source": [
    "str7 = \"DATA SCIENCE\""
   ]
  },
  {
   "cell_type": "code",
   "execution_count": 27,
   "id": "a6aef8ba",
   "metadata": {},
   "outputs": [],
   "source": [
    "str7 = str7.lower()"
   ]
  },
  {
   "cell_type": "code",
   "execution_count": 28,
   "id": "c000257e",
   "metadata": {},
   "outputs": [
    {
     "data": {
      "text/plain": [
       "'data science'"
      ]
     },
     "execution_count": 28,
     "metadata": {},
     "output_type": "execute_result"
    }
   ],
   "source": [
    "str7"
   ]
  },
  {
   "cell_type": "code",
   "execution_count": 29,
   "id": "a958e74a",
   "metadata": {},
   "outputs": [
    {
     "data": {
      "text/plain": [
       "'data science'"
      ]
     },
     "execution_count": 29,
     "metadata": {},
     "output_type": "execute_result"
    }
   ],
   "source": [
    "str7"
   ]
  },
  {
   "cell_type": "code",
   "execution_count": 33,
   "id": "720f8754",
   "metadata": {},
   "outputs": [],
   "source": [
    "extra = \" is awsome\""
   ]
  },
  {
   "cell_type": "code",
   "execution_count": 34,
   "id": "b0634067",
   "metadata": {},
   "outputs": [],
   "source": [
    "output = str7 + extra"
   ]
  },
  {
   "cell_type": "code",
   "execution_count": 35,
   "id": "b6b4f59a",
   "metadata": {},
   "outputs": [
    {
     "data": {
      "text/plain": [
       "'data science is awsome'"
      ]
     },
     "execution_count": 35,
     "metadata": {},
     "output_type": "execute_result"
    }
   ],
   "source": [
    "output"
   ]
  },
  {
   "cell_type": "code",
   "execution_count": 36,
   "id": "bf7834ce",
   "metadata": {},
   "outputs": [],
   "source": [
    "str7 = \"DATA SCIENCE\""
   ]
  },
  {
   "cell_type": "code",
   "execution_count": 40,
   "id": "67810bd9",
   "metadata": {},
   "outputs": [
    {
     "data": {
      "text/plain": [
       "'data '"
      ]
     },
     "execution_count": 40,
     "metadata": {},
     "output_type": "execute_result"
    }
   ],
   "source": [
    "first = str7[0:5].lower()\n",
    "first"
   ]
  },
  {
   "cell_type": "code",
   "execution_count": 44,
   "id": "76452500",
   "metadata": {},
   "outputs": [
    {
     "data": {
      "text/plain": [
       "'SCIENCE'"
      ]
     },
     "execution_count": 44,
     "metadata": {},
     "output_type": "execute_result"
    }
   ],
   "source": [
    "last = str7[5:]\n",
    "last"
   ]
  },
  {
   "cell_type": "code",
   "execution_count": 45,
   "id": "45555935",
   "metadata": {},
   "outputs": [
    {
     "data": {
      "text/plain": [
       "'data SCIENCE'"
      ]
     },
     "execution_count": 45,
     "metadata": {},
     "output_type": "execute_result"
    }
   ],
   "source": [
    "first + last"
   ]
  },
  {
   "cell_type": "markdown",
   "id": "4368006e",
   "metadata": {},
   "source": [
    "### strip()"
   ]
  },
  {
   "cell_type": "code",
   "execution_count": 47,
   "id": "4323d4df",
   "metadata": {},
   "outputs": [],
   "source": [
    "str8 = \"My name is Bappy       \""
   ]
  },
  {
   "cell_type": "code",
   "execution_count": 48,
   "id": "7d1cb44b",
   "metadata": {},
   "outputs": [
    {
     "data": {
      "text/plain": [
       "'My name is Bappy       '"
      ]
     },
     "execution_count": 48,
     "metadata": {},
     "output_type": "execute_result"
    }
   ],
   "source": [
    "str8"
   ]
  },
  {
   "cell_type": "code",
   "execution_count": 49,
   "id": "62c62d16",
   "metadata": {},
   "outputs": [
    {
     "data": {
      "text/plain": [
       "'My name is Bappy'"
      ]
     },
     "execution_count": 49,
     "metadata": {},
     "output_type": "execute_result"
    }
   ],
   "source": [
    "str8.strip()"
   ]
  },
  {
   "cell_type": "markdown",
   "id": "4caa92f2",
   "metadata": {},
   "source": [
    "### rstrip()"
   ]
  },
  {
   "cell_type": "code",
   "execution_count": 50,
   "id": "72a086a2",
   "metadata": {},
   "outputs": [],
   "source": [
    "str9 = \"My name is Bappy!!!!!!!\""
   ]
  },
  {
   "cell_type": "code",
   "execution_count": 52,
   "id": "e5bf839a",
   "metadata": {},
   "outputs": [
    {
     "data": {
      "text/plain": [
       "'My name is Bappy'"
      ]
     },
     "execution_count": 52,
     "metadata": {},
     "output_type": "execute_result"
    }
   ],
   "source": [
    "str9.rstrip(\"!\")"
   ]
  },
  {
   "cell_type": "code",
   "execution_count": 53,
   "id": "4f9d4c86",
   "metadata": {},
   "outputs": [],
   "source": [
    "str10 = \"!!!!!My name is Bappy!!!!!!!\""
   ]
  },
  {
   "cell_type": "code",
   "execution_count": 54,
   "id": "b2405d8b",
   "metadata": {},
   "outputs": [
    {
     "data": {
      "text/plain": [
       "'!!!!!My name is Bappy'"
      ]
     },
     "execution_count": 54,
     "metadata": {},
     "output_type": "execute_result"
    }
   ],
   "source": [
    "str10.rstrip(\"!\")"
   ]
  },
  {
   "cell_type": "code",
   "execution_count": 55,
   "id": "9ed43a04",
   "metadata": {},
   "outputs": [],
   "source": [
    "str9 = \"My name is Bappy@@@@@\""
   ]
  },
  {
   "cell_type": "code",
   "execution_count": 56,
   "id": "6a0b1e3c",
   "metadata": {},
   "outputs": [
    {
     "data": {
      "text/plain": [
       "'My name is Bappy'"
      ]
     },
     "execution_count": 56,
     "metadata": {},
     "output_type": "execute_result"
    }
   ],
   "source": [
    "str9.rstrip(\"@\")"
   ]
  },
  {
   "cell_type": "code",
   "execution_count": 57,
   "id": "bb6a5857",
   "metadata": {},
   "outputs": [],
   "source": [
    "str9 = \"My name is Bappy11111\""
   ]
  },
  {
   "cell_type": "code",
   "execution_count": 58,
   "id": "4c9b3556",
   "metadata": {},
   "outputs": [
    {
     "data": {
      "text/plain": [
       "'My name is Bappy'"
      ]
     },
     "execution_count": 58,
     "metadata": {},
     "output_type": "execute_result"
    }
   ],
   "source": [
    "str9.rstrip(\"1\")"
   ]
  },
  {
   "cell_type": "markdown",
   "id": "ae601ed0",
   "metadata": {},
   "source": [
    "### replace()"
   ]
  },
  {
   "cell_type": "code",
   "execution_count": 59,
   "id": "2851edeb",
   "metadata": {},
   "outputs": [],
   "source": [
    "str11 = \"Silver Spoon\""
   ]
  },
  {
   "cell_type": "code",
   "execution_count": 61,
   "id": "9cbc9242",
   "metadata": {},
   "outputs": [
    {
     "data": {
      "text/plain": [
       "'Silver Moon'"
      ]
     },
     "execution_count": 61,
     "metadata": {},
     "output_type": "execute_result"
    }
   ],
   "source": [
    "str11.replace(\"Sp\", \"M\")"
   ]
  },
  {
   "cell_type": "code",
   "execution_count": 64,
   "id": "188405a6",
   "metadata": {},
   "outputs": [],
   "source": [
    "str11 = \"My name is Bappy & Bappy is a Data Scientist\""
   ]
  },
  {
   "cell_type": "code",
   "execution_count": 65,
   "id": "bc25ca3b",
   "metadata": {},
   "outputs": [
    {
     "data": {
      "text/plain": [
       "'My name is Vishal & Vishal is a Data Scientist'"
      ]
     },
     "execution_count": 65,
     "metadata": {},
     "output_type": "execute_result"
    }
   ],
   "source": [
    "str11.replace(\"Bappy\", \"Vishal\")"
   ]
  },
  {
   "cell_type": "code",
   "execution_count": 66,
   "id": "31921cca",
   "metadata": {},
   "outputs": [],
   "source": [
    "mystr = \"!!! My name is python !!!\""
   ]
  },
  {
   "cell_type": "code",
   "execution_count": 69,
   "id": "ed03aa89",
   "metadata": {},
   "outputs": [],
   "source": [
    "mystr = mystr.rstrip(\"!\")\n",
    "mystr = mystr.replace(\"!\",\"\")"
   ]
  },
  {
   "cell_type": "code",
   "execution_count": 72,
   "id": "58907142",
   "metadata": {},
   "outputs": [],
   "source": [
    "mystr = mystr.strip()"
   ]
  },
  {
   "cell_type": "code",
   "execution_count": 73,
   "id": "d9fdac12",
   "metadata": {},
   "outputs": [
    {
     "data": {
      "text/plain": [
       "'My name is python'"
      ]
     },
     "execution_count": 73,
     "metadata": {},
     "output_type": "execute_result"
    }
   ],
   "source": [
    "mystr"
   ]
  },
  {
   "cell_type": "code",
   "execution_count": 74,
   "id": "c7d524c6",
   "metadata": {},
   "outputs": [],
   "source": [
    "mystr = \"!!! My name is python !!!\""
   ]
  },
  {
   "cell_type": "code",
   "execution_count": 75,
   "id": "21a73b22",
   "metadata": {},
   "outputs": [
    {
     "data": {
      "text/plain": [
       "' My name is python '"
      ]
     },
     "execution_count": 75,
     "metadata": {},
     "output_type": "execute_result"
    }
   ],
   "source": [
    "mystr = mystr.replace(\"!\",\"\")\n",
    "mystr"
   ]
  },
  {
   "cell_type": "code",
   "execution_count": 82,
   "id": "c59a5278",
   "metadata": {},
   "outputs": [],
   "source": [
    "sen1 = \"@@@ My name is Bappy. I am a AI developer #######\""
   ]
  },
  {
   "cell_type": "code",
   "execution_count": null,
   "id": "d7096096",
   "metadata": {},
   "outputs": [],
   "source": [
    "output = \"My name is Bappy. I am a AI developer\""
   ]
  },
  {
   "cell_type": "code",
   "execution_count": 79,
   "id": "75e55dcd",
   "metadata": {},
   "outputs": [
    {
     "data": {
      "text/plain": [
       "' My name is Bappy. I am a AI developer '"
      ]
     },
     "execution_count": 79,
     "metadata": {},
     "output_type": "execute_result"
    }
   ],
   "source": [
    "sen1.replace(\"@\",\"\").replace(\"#\",\"\")"
   ]
  },
  {
   "cell_type": "code",
   "execution_count": 80,
   "id": "62380495",
   "metadata": {},
   "outputs": [
    {
     "data": {
      "text/plain": [
       "'My name is Bappy. I am a AI developer'"
      ]
     },
     "execution_count": 80,
     "metadata": {},
     "output_type": "execute_result"
    }
   ],
   "source": [
    "sen1 = sen1.replace(\"@\", \" \")\n",
    "sen1 = sen1.replace(\"#\", \" \")\n",
    "sen1 = sen1.strip()\n",
    "sen1\n"
   ]
  },
  {
   "cell_type": "code",
   "execution_count": 83,
   "id": "8f32f5e0",
   "metadata": {},
   "outputs": [
    {
     "data": {
      "text/plain": [
       "'My name is Bappy. I am a AI developer'"
      ]
     },
     "execution_count": 83,
     "metadata": {},
     "output_type": "execute_result"
    }
   ],
   "source": [
    "sen1.replace('@',\"\").replace('#',\"\").strip()"
   ]
  },
  {
   "cell_type": "markdown",
   "id": "fb371b72",
   "metadata": {},
   "source": [
    "### split()"
   ]
  },
  {
   "cell_type": "code",
   "execution_count": 84,
   "id": "f4d9f770",
   "metadata": {},
   "outputs": [],
   "source": [
    "str12 = \"Silver Spoon\""
   ]
  },
  {
   "cell_type": "code",
   "execution_count": 85,
   "id": "909c09d7",
   "metadata": {},
   "outputs": [
    {
     "data": {
      "text/plain": [
       "'Silver Spoon'"
      ]
     },
     "execution_count": 85,
     "metadata": {},
     "output_type": "execute_result"
    }
   ],
   "source": [
    "str12"
   ]
  },
  {
   "cell_type": "code",
   "execution_count": 86,
   "id": "3d63898a",
   "metadata": {},
   "outputs": [
    {
     "data": {
      "text/plain": [
       "['Silver', 'Spoon']"
      ]
     },
     "execution_count": 86,
     "metadata": {},
     "output_type": "execute_result"
    }
   ],
   "source": [
    "str12 = str12.split()\n",
    "str12"
   ]
  },
  {
   "cell_type": "code",
   "execution_count": 87,
   "id": "c39175d8",
   "metadata": {},
   "outputs": [
    {
     "data": {
      "text/plain": [
       "list"
      ]
     },
     "execution_count": 87,
     "metadata": {},
     "output_type": "execute_result"
    }
   ],
   "source": [
    "type(str12)"
   ]
  },
  {
   "cell_type": "code",
   "execution_count": 88,
   "id": "708d5646",
   "metadata": {},
   "outputs": [],
   "source": [
    "str12 = \"Silver,Spoon\""
   ]
  },
  {
   "cell_type": "code",
   "execution_count": 89,
   "id": "fe3ae92e",
   "metadata": {},
   "outputs": [
    {
     "data": {
      "text/plain": [
       "['Silver', 'Spoon']"
      ]
     },
     "execution_count": 89,
     "metadata": {},
     "output_type": "execute_result"
    }
   ],
   "source": [
    "str12 = str12.split(\",\")\n",
    "str12"
   ]
  },
  {
   "cell_type": "code",
   "execution_count": 94,
   "id": "0bc1f428",
   "metadata": {},
   "outputs": [],
   "source": [
    "student_list = \"Bappy@ Vishal@Kumer@ Sunny\""
   ]
  },
  {
   "cell_type": "code",
   "execution_count": 95,
   "id": "5a9d1a7e",
   "metadata": {},
   "outputs": [
    {
     "data": {
      "text/plain": [
       "['Bappy', ' Vishal', 'Kumer', ' Sunny']"
      ]
     },
     "execution_count": 95,
     "metadata": {},
     "output_type": "execute_result"
    }
   ],
   "source": [
    "student_list.split(\"@\")"
   ]
  },
  {
   "cell_type": "markdown",
   "id": "0c76eb75",
   "metadata": {},
   "source": [
    "### capitalize()"
   ]
  },
  {
   "cell_type": "code",
   "execution_count": 96,
   "id": "ae2ffbac",
   "metadata": {},
   "outputs": [],
   "source": [
    "sen1 = \"data science is Future\""
   ]
  },
  {
   "cell_type": "code",
   "execution_count": 97,
   "id": "8544fa1a",
   "metadata": {},
   "outputs": [
    {
     "data": {
      "text/plain": [
       "'Data science is future'"
      ]
     },
     "execution_count": 97,
     "metadata": {},
     "output_type": "execute_result"
    }
   ],
   "source": [
    "sen1.capitalize()"
   ]
  },
  {
   "cell_type": "markdown",
   "id": "c792a50d",
   "metadata": {},
   "source": [
    "### center()"
   ]
  },
  {
   "cell_type": "code",
   "execution_count": 98,
   "id": "ad7e6a24",
   "metadata": {},
   "outputs": [],
   "source": [
    "str15 = \"Welcome to my house\""
   ]
  },
  {
   "cell_type": "code",
   "execution_count": 99,
   "id": "b4928e8a",
   "metadata": {},
   "outputs": [
    {
     "name": "stdout",
     "output_type": "stream",
     "text": [
      "Welcome to my house\n"
     ]
    }
   ],
   "source": [
    "print(str15)"
   ]
  },
  {
   "cell_type": "code",
   "execution_count": 101,
   "id": "ca3dbfed",
   "metadata": {},
   "outputs": [
    {
     "data": {
      "text/plain": [
       "'                                        Welcome to my house                                         '"
      ]
     },
     "execution_count": 101,
     "metadata": {},
     "output_type": "execute_result"
    }
   ],
   "source": [
    "str15.center(100)"
   ]
  },
  {
   "cell_type": "code",
   "execution_count": 109,
   "id": "e0c6fbb1",
   "metadata": {},
   "outputs": [
    {
     "data": {
      "text/plain": [
       "'****************************************Welcome to my house*****************************************'"
      ]
     },
     "execution_count": 109,
     "metadata": {},
     "output_type": "execute_result"
    }
   ],
   "source": [
    "str15.center(100,\"*\")"
   ]
  },
  {
   "cell_type": "code",
   "execution_count": 104,
   "id": "e651ed10",
   "metadata": {},
   "outputs": [],
   "source": [
    "temp = str15.center(100,\"-\")"
   ]
  },
  {
   "cell_type": "code",
   "execution_count": 106,
   "id": "67b707fe",
   "metadata": {},
   "outputs": [
    {
     "data": {
      "text/plain": [
       "100"
      ]
     },
     "execution_count": 106,
     "metadata": {},
     "output_type": "execute_result"
    }
   ],
   "source": [
    "len(temp)"
   ]
  },
  {
   "cell_type": "code",
   "execution_count": 107,
   "id": "7af05037",
   "metadata": {},
   "outputs": [
    {
     "data": {
      "text/plain": [
       "19"
      ]
     },
     "execution_count": 107,
     "metadata": {},
     "output_type": "execute_result"
    }
   ],
   "source": [
    "len(str15)"
   ]
  },
  {
   "cell_type": "markdown",
   "id": "1df1362b",
   "metadata": {},
   "source": [
    "### count()"
   ]
  },
  {
   "cell_type": "code",
   "execution_count": 110,
   "id": "2141536e",
   "metadata": {},
   "outputs": [],
   "source": [
    "str16 = \"Abracadabra\""
   ]
  },
  {
   "cell_type": "code",
   "execution_count": 111,
   "id": "dbd1beb6",
   "metadata": {},
   "outputs": [
    {
     "data": {
      "text/plain": [
       "4"
      ]
     },
     "execution_count": 111,
     "metadata": {},
     "output_type": "execute_result"
    }
   ],
   "source": [
    "str16.count(\"a\")"
   ]
  },
  {
   "cell_type": "code",
   "execution_count": 112,
   "id": "c87d4d2f",
   "metadata": {},
   "outputs": [],
   "source": [
    "str16 = \"Bappy , Bappy is my name\""
   ]
  },
  {
   "cell_type": "code",
   "execution_count": 113,
   "id": "db0602b6",
   "metadata": {},
   "outputs": [
    {
     "data": {
      "text/plain": [
       "2"
      ]
     },
     "execution_count": 113,
     "metadata": {},
     "output_type": "execute_result"
    }
   ],
   "source": [
    "str16.count(\"Bappy\")"
   ]
  },
  {
   "cell_type": "markdown",
   "id": "ab8361da",
   "metadata": {},
   "source": [
    "### find()"
   ]
  },
  {
   "cell_type": "code",
   "execution_count": 115,
   "id": "15bf7580",
   "metadata": {},
   "outputs": [],
   "source": [
    "str16 = \"Bappy is my name\""
   ]
  },
  {
   "cell_type": "code",
   "execution_count": 116,
   "id": "490067db",
   "metadata": {},
   "outputs": [
    {
     "data": {
      "text/plain": [
       "6"
      ]
     },
     "execution_count": 116,
     "metadata": {},
     "output_type": "execute_result"
    }
   ],
   "source": [
    "str16.find(\"is\")"
   ]
  },
  {
   "cell_type": "code",
   "execution_count": 117,
   "id": "76587896",
   "metadata": {},
   "outputs": [
    {
     "name": "stdout",
     "output_type": "stream",
     "text": [
      "-1\n"
     ]
    }
   ],
   "source": [
    "str1 = \"He's name is Dan. He is an honest man.\"\n",
    "print(str1.find(\"Daniel\"))"
   ]
  },
  {
   "cell_type": "markdown",
   "id": "415fe82e",
   "metadata": {},
   "source": [
    "### index()"
   ]
  },
  {
   "cell_type": "code",
   "execution_count": 119,
   "id": "f0624bca",
   "metadata": {},
   "outputs": [],
   "source": [
    "str1 = \"He's name is Dan. He is an honest man.\""
   ]
  },
  {
   "cell_type": "code",
   "execution_count": 122,
   "id": "6de44bf0",
   "metadata": {},
   "outputs": [
    {
     "data": {
      "text/plain": [
       "13"
      ]
     },
     "execution_count": 122,
     "metadata": {},
     "output_type": "execute_result"
    }
   ],
   "source": [
    "str1.index(\"Dan\")"
   ]
  },
  {
   "cell_type": "code",
   "execution_count": 123,
   "id": "08e3d6a1",
   "metadata": {},
   "outputs": [],
   "source": [
    "str1 = \"He's name is Dan. Dan is an honest man.\""
   ]
  },
  {
   "cell_type": "code",
   "execution_count": 124,
   "id": "0c785d28",
   "metadata": {},
   "outputs": [
    {
     "data": {
      "text/plain": [
       "13"
      ]
     },
     "execution_count": 124,
     "metadata": {},
     "output_type": "execute_result"
    }
   ],
   "source": [
    "str1.index(\"Dan\")"
   ]
  },
  {
   "cell_type": "code",
   "execution_count": 125,
   "id": "b5a50701",
   "metadata": {},
   "outputs": [],
   "source": [
    "str1 = \"He's name is Bappy. Dan is an honest man.\""
   ]
  },
  {
   "cell_type": "code",
   "execution_count": 126,
   "id": "c5d1d027",
   "metadata": {},
   "outputs": [
    {
     "data": {
      "text/plain": [
       "13"
      ]
     },
     "execution_count": 126,
     "metadata": {},
     "output_type": "execute_result"
    }
   ],
   "source": [
    "str1.index(\"Bappy\")"
   ]
  },
  {
   "cell_type": "markdown",
   "id": "c0cf8d2d",
   "metadata": {},
   "source": [
    "### islower()"
   ]
  },
  {
   "cell_type": "code",
   "execution_count": 132,
   "id": "324127c3",
   "metadata": {},
   "outputs": [],
   "source": [
    "sen = \"how are u\""
   ]
  },
  {
   "cell_type": "code",
   "execution_count": 133,
   "id": "2a8c32ff",
   "metadata": {},
   "outputs": [
    {
     "data": {
      "text/plain": [
       "True"
      ]
     },
     "execution_count": 133,
     "metadata": {},
     "output_type": "execute_result"
    }
   ],
   "source": [
    "sen.islower()"
   ]
  },
  {
   "cell_type": "markdown",
   "id": "6f219d5e",
   "metadata": {},
   "source": [
    "### isupper()"
   ]
  },
  {
   "cell_type": "code",
   "execution_count": 134,
   "id": "4230f81d",
   "metadata": {},
   "outputs": [],
   "source": [
    "sen1 = \"HOW ARE YOU\""
   ]
  },
  {
   "cell_type": "code",
   "execution_count": 135,
   "id": "95c0f6b0",
   "metadata": {},
   "outputs": [
    {
     "data": {
      "text/plain": [
       "True"
      ]
     },
     "execution_count": 135,
     "metadata": {},
     "output_type": "execute_result"
    }
   ],
   "source": [
    "sen1.isupper()"
   ]
  },
  {
   "cell_type": "markdown",
   "id": "c9b75d46",
   "metadata": {},
   "source": [
    "### startswith()"
   ]
  },
  {
   "cell_type": "code",
   "execution_count": 138,
   "id": "aedf2ca5",
   "metadata": {},
   "outputs": [],
   "source": [
    "str1 = \"Python is a Interpreted Language\" "
   ]
  },
  {
   "cell_type": "code",
   "execution_count": 141,
   "id": "442b4192",
   "metadata": {},
   "outputs": [
    {
     "data": {
      "text/plain": [
       "True"
      ]
     },
     "execution_count": 141,
     "metadata": {},
     "output_type": "execute_result"
    }
   ],
   "source": [
    "str1.startswith(\"Python\")"
   ]
  },
  {
   "cell_type": "code",
   "execution_count": 143,
   "id": "4130b3fd",
   "metadata": {},
   "outputs": [
    {
     "data": {
      "text/plain": [
       "'python is 464 '"
      ]
     },
     "execution_count": 143,
     "metadata": {},
     "output_type": "execute_result"
    }
   ],
   "source": [
    "str1='python is 5546554 '\n",
    "str1.replace('5',\"\")\n",
    "\n"
   ]
  },
  {
   "cell_type": "code",
   "execution_count": null,
   "id": "60129e9b",
   "metadata": {},
   "outputs": [],
   "source": []
  }
 ],
 "metadata": {
  "kernelspec": {
   "display_name": "Python 3 (ipykernel)",
   "language": "python",
   "name": "python3"
  },
  "language_info": {
   "codemirror_mode": {
    "name": "ipython",
    "version": 3
   },
   "file_extension": ".py",
   "mimetype": "text/x-python",
   "name": "python",
   "nbconvert_exporter": "python",
   "pygments_lexer": "ipython3",
   "version": "3.9.12"
  }
 },
 "nbformat": 4,
 "nbformat_minor": 5
}
