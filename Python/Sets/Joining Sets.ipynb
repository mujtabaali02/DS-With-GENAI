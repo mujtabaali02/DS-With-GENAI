{
 "cells": [
  {
   "cell_type": "markdown",
   "id": "25eca2d3",
   "metadata": {},
   "source": [
    "### union() & update()"
   ]
  },
  {
   "cell_type": "code",
   "execution_count": 1,
   "id": "c8b56905",
   "metadata": {},
   "outputs": [],
   "source": [
    "city_name1 = {\"Tokyo\", \"Madrid\", \"Berlin\", \"Delhi\"}\n",
    "city_name2 = {\"Tokyo\", \"Seoul\", \"Kabul\", \"Madrid\"}\n",
    "\n",
    "city_name3 = city_name1.union(city_name2)"
   ]
  },
  {
   "cell_type": "code",
   "execution_count": 2,
   "id": "d6e9c83d",
   "metadata": {},
   "outputs": [
    {
     "data": {
      "text/plain": [
       "{'Berlin', 'Delhi', 'Kabul', 'Madrid', 'Seoul', 'Tokyo'}"
      ]
     },
     "execution_count": 2,
     "metadata": {},
     "output_type": "execute_result"
    }
   ],
   "source": [
    "city_name3"
   ]
  },
  {
   "cell_type": "code",
   "execution_count": 3,
   "id": "7eefdfb7",
   "metadata": {},
   "outputs": [],
   "source": [
    "num1 = {1,2,3,4}\n",
    "num2 = {3,4,5,6}\n",
    "\n",
    "num3 = num1.union(num2)"
   ]
  },
  {
   "cell_type": "code",
   "execution_count": 4,
   "id": "d736598c",
   "metadata": {},
   "outputs": [
    {
     "data": {
      "text/plain": [
       "{1, 2, 3, 4, 5, 6}"
      ]
     },
     "execution_count": 4,
     "metadata": {},
     "output_type": "execute_result"
    }
   ],
   "source": [
    "num3"
   ]
  },
  {
   "cell_type": "code",
   "execution_count": 7,
   "id": "a0dcba29",
   "metadata": {},
   "outputs": [
    {
     "data": {
      "text/plain": [
       "{'Berlin', 'Delhi', 'Kabul', 'Madrid', 'Seoul', 'Tokyo'}"
      ]
     },
     "execution_count": 7,
     "metadata": {},
     "output_type": "execute_result"
    }
   ],
   "source": [
    "city_name1 = {\"Tokyo\", \"Madrid\", \"Berlin\", \"Delhi\"}\n",
    "city_name2 = {\"Tokyo\", \"Seoul\", \"Kabul\", \"Madrid\"}\n",
    "\n",
    "city_name1.update(city_name2)\n",
    "city_name1"
   ]
  },
  {
   "cell_type": "markdown",
   "id": "22f2cf5f",
   "metadata": {},
   "source": [
    "### intersection & intersection_update()"
   ]
  },
  {
   "cell_type": "code",
   "execution_count": 8,
   "id": "12147a98",
   "metadata": {},
   "outputs": [
    {
     "data": {
      "text/plain": [
       "{'Madrid', 'Tokyo'}"
      ]
     },
     "execution_count": 8,
     "metadata": {},
     "output_type": "execute_result"
    }
   ],
   "source": [
    "city_name1 = {\"Tokyo\", \"Madrid\", \"Berlin\", \"Delhi\"}\n",
    "city_name2 = {\"Tokyo\", \"Seoul\", \"Kabul\", \"Madrid\"}\n",
    "\n",
    "city_name3 = city_name1.intersection(city_name2)\n",
    "city_name3"
   ]
  },
  {
   "cell_type": "code",
   "execution_count": 9,
   "id": "9514de9f",
   "metadata": {},
   "outputs": [
    {
     "data": {
      "text/plain": [
       "{3, 4}"
      ]
     },
     "execution_count": 9,
     "metadata": {},
     "output_type": "execute_result"
    }
   ],
   "source": [
    "num1 = {1,2,3,4}\n",
    "num2 = {3,4,5,6}\n",
    "\n",
    "num3 = num1.intersection(num2)\n",
    "num3"
   ]
  },
  {
   "cell_type": "code",
   "execution_count": 10,
   "id": "d70ccf6a",
   "metadata": {},
   "outputs": [
    {
     "data": {
      "text/plain": [
       "{'Madrid', 'Tokyo'}"
      ]
     },
     "execution_count": 10,
     "metadata": {},
     "output_type": "execute_result"
    }
   ],
   "source": [
    "city_name1 = {\"Tokyo\", \"Madrid\", \"Berlin\", \"Delhi\"}\n",
    "city_name2 = {\"Tokyo\", \"Seoul\", \"Kabul\", \"Madrid\"}\n",
    "\n",
    "city_name1.intersection_update(city_name2)\n",
    "city_name1"
   ]
  },
  {
   "cell_type": "code",
   "execution_count": 11,
   "id": "abd1e0fe",
   "metadata": {},
   "outputs": [
    {
     "data": {
      "text/plain": [
       "{0.2, 1, 2, 3, 4, 7, 8, 'a'}"
      ]
     },
     "execution_count": 11,
     "metadata": {},
     "output_type": "execute_result"
    }
   ],
   "source": [
    "s1 = {1,2,3,'a',0.2}\n",
    "s2 = {'a',0.2,4,7,8}\n",
    "s3 = s1.union(s2)\n",
    "s3\n"
   ]
  },
  {
   "cell_type": "markdown",
   "id": "16d40005",
   "metadata": {},
   "source": [
    "### symmetric_difference"
   ]
  },
  {
   "cell_type": "code",
   "execution_count": 14,
   "id": "6a9b8705",
   "metadata": {},
   "outputs": [
    {
     "data": {
      "text/plain": [
       "{'Berlin', 'Delhi', 'Kabul', 'Seoul'}"
      ]
     },
     "execution_count": 14,
     "metadata": {},
     "output_type": "execute_result"
    }
   ],
   "source": [
    "city_name1 = {\"Tokyo\", \"Madrid\", \"Berlin\", \"Delhi\"}\n",
    "city_name2 = {\"Tokyo\", \"Seoul\", \"Kabul\", \"Madrid\"}\n",
    "\n",
    "city3 = city_name1.symmetric_difference(city_name2)\n",
    "city3"
   ]
  },
  {
   "cell_type": "markdown",
   "id": "a204c5e0",
   "metadata": {},
   "source": [
    "### sets methods"
   ]
  },
  {
   "cell_type": "markdown",
   "id": "ab2e77d7",
   "metadata": {},
   "source": [
    "### isdisjoint()\n",
    "\n",
    "The isdisjoint() method checks if items of given set are present in another set. The method returns Flase if items are present,\n",
    "else it returns True"
   ]
  },
  {
   "cell_type": "code",
   "execution_count": 16,
   "id": "5fc2fda6",
   "metadata": {},
   "outputs": [
    {
     "data": {
      "text/plain": [
       "False"
      ]
     },
     "execution_count": 16,
     "metadata": {},
     "output_type": "execute_result"
    }
   ],
   "source": [
    "city_name1 = {\"Tokyo\", \"Madrid\", \"Berlin\", \"Delhi\"}\n",
    "city_name2 = {\"Tokyo\", \"Seoul\", \"Kabul\", \"Madrid\"}\n",
    "\n",
    "city_name1.isdisjoint(city_name2)"
   ]
  },
  {
   "cell_type": "code",
   "execution_count": 17,
   "id": "4a2ee094",
   "metadata": {},
   "outputs": [
    {
     "data": {
      "text/plain": [
       "True"
      ]
     },
     "execution_count": 17,
     "metadata": {},
     "output_type": "execute_result"
    }
   ],
   "source": [
    "city_name1 = {\"Tokyo\", \"Madrid\", \"Berlin\", \"Delhi\"}\n",
    "city_name2 = {\"Tokyo1\", \"Seoul\", \"Kabul\", \"Madrid1\"}\n",
    "\n",
    "city_name1.isdisjoint(city_name2)"
   ]
  },
  {
   "cell_type": "markdown",
   "id": "0492e0dc",
   "metadata": {},
   "source": [
    "### add()"
   ]
  },
  {
   "cell_type": "code",
   "execution_count": 18,
   "id": "0f35bb57",
   "metadata": {},
   "outputs": [],
   "source": [
    "city_name1 = {\"Tokyo\", \"Madrid\", \"Berlin\", \"Delhi\"}\n",
    "city_name1.add(\"Kolkata\")"
   ]
  },
  {
   "cell_type": "code",
   "execution_count": 19,
   "id": "f62757d9",
   "metadata": {},
   "outputs": [
    {
     "data": {
      "text/plain": [
       "{'Berlin', 'Delhi', 'Kolkata', 'Madrid', 'Tokyo'}"
      ]
     },
     "execution_count": 19,
     "metadata": {},
     "output_type": "execute_result"
    }
   ],
   "source": [
    "city_name1"
   ]
  },
  {
   "cell_type": "markdown",
   "id": "17d9c684",
   "metadata": {},
   "source": [
    "### Update()"
   ]
  },
  {
   "cell_type": "code",
   "execution_count": 20,
   "id": "10355e8e",
   "metadata": {},
   "outputs": [],
   "source": [
    "city_name1 = {\"Tokyo\", \"Madrid\", \"Berlin\", \"Delhi\"}\n",
    "city_name2 = {\"Tokyo\", \"Seoul\", \"Kabul\", \"Madrid\"}\n",
    "\n",
    "city_name1.update(city_name2)"
   ]
  },
  {
   "cell_type": "code",
   "execution_count": 21,
   "id": "582c4775",
   "metadata": {},
   "outputs": [
    {
     "data": {
      "text/plain": [
       "{'Berlin', 'Delhi', 'Kabul', 'Madrid', 'Seoul', 'Tokyo'}"
      ]
     },
     "execution_count": 21,
     "metadata": {},
     "output_type": "execute_result"
    }
   ],
   "source": [
    "city_name1"
   ]
  },
  {
   "cell_type": "markdown",
   "id": "40b1ffea",
   "metadata": {},
   "source": [
    "### remove() & discard()"
   ]
  },
  {
   "cell_type": "code",
   "execution_count": 22,
   "id": "0db363ef",
   "metadata": {},
   "outputs": [],
   "source": [
    "city_name1 = {\"Tokyo\", \"Madrid\", \"Berlin\", \"Delhi\"}\n",
    "city_name1.remove(\"Tokyo\")"
   ]
  },
  {
   "cell_type": "code",
   "execution_count": 23,
   "id": "9c6930fd",
   "metadata": {},
   "outputs": [
    {
     "data": {
      "text/plain": [
       "{'Berlin', 'Delhi', 'Madrid'}"
      ]
     },
     "execution_count": 23,
     "metadata": {},
     "output_type": "execute_result"
    }
   ],
   "source": [
    "city_name1"
   ]
  },
  {
   "cell_type": "code",
   "execution_count": 24,
   "id": "907b1050",
   "metadata": {},
   "outputs": [
    {
     "ename": "KeyError",
     "evalue": "'kolkata'",
     "output_type": "error",
     "traceback": [
      "\u001b[1;31m---------------------------------------------------------------------------\u001b[0m",
      "\u001b[1;31mKeyError\u001b[0m                                  Traceback (most recent call last)",
      "Input \u001b[1;32mIn [24]\u001b[0m, in \u001b[0;36m<cell line: 2>\u001b[1;34m()\u001b[0m\n\u001b[0;32m      1\u001b[0m city_name1 \u001b[38;5;241m=\u001b[39m {\u001b[38;5;124m\"\u001b[39m\u001b[38;5;124mTokyo\u001b[39m\u001b[38;5;124m\"\u001b[39m, \u001b[38;5;124m\"\u001b[39m\u001b[38;5;124mMadrid\u001b[39m\u001b[38;5;124m\"\u001b[39m, \u001b[38;5;124m\"\u001b[39m\u001b[38;5;124mBerlin\u001b[39m\u001b[38;5;124m\"\u001b[39m, \u001b[38;5;124m\"\u001b[39m\u001b[38;5;124mDelhi\u001b[39m\u001b[38;5;124m\"\u001b[39m}\n\u001b[1;32m----> 2\u001b[0m \u001b[43mcity_name1\u001b[49m\u001b[38;5;241;43m.\u001b[39;49m\u001b[43mremove\u001b[49m\u001b[43m(\u001b[49m\u001b[38;5;124;43m\"\u001b[39;49m\u001b[38;5;124;43mkolkata\u001b[39;49m\u001b[38;5;124;43m\"\u001b[39;49m\u001b[43m)\u001b[49m\n",
      "\u001b[1;31mKeyError\u001b[0m: 'kolkata'"
     ]
    }
   ],
   "source": [
    "city_name1 = {\"Tokyo\", \"Madrid\", \"Berlin\", \"Delhi\"}\n",
    "city_name1.remove(\"kolkata\")"
   ]
  },
  {
   "cell_type": "code",
   "execution_count": 25,
   "id": "a1867142",
   "metadata": {},
   "outputs": [],
   "source": [
    "city_name1 = {\"Tokyo\", \"Madrid\", \"Berlin\", \"Delhi\"}\n",
    "city_name1.discard(\"kolkata\")"
   ]
  },
  {
   "cell_type": "code",
   "execution_count": 26,
   "id": "77d88726",
   "metadata": {},
   "outputs": [
    {
     "data": {
      "text/plain": [
       "{'Berlin', 'Delhi', 'Madrid', 'Tokyo'}"
      ]
     },
     "execution_count": 26,
     "metadata": {},
     "output_type": "execute_result"
    }
   ],
   "source": [
    "city_name1"
   ]
  },
  {
   "cell_type": "code",
   "execution_count": 27,
   "id": "7aa90f1d",
   "metadata": {},
   "outputs": [
    {
     "data": {
      "text/plain": [
       "{'Berlin', 'Delhi', 'Madrid'}"
      ]
     },
     "execution_count": 27,
     "metadata": {},
     "output_type": "execute_result"
    }
   ],
   "source": [
    "city_name1 = {\"Tokyo\", \"Madrid\", \"Berlin\", \"Delhi\"}\n",
    "city_name1.discard(\"Tokyo\")\n",
    "city_name1"
   ]
  },
  {
   "cell_type": "markdown",
   "id": "4f08feb4",
   "metadata": {},
   "source": [
    "### pop()\n",
    "\n",
    "it will remove elment randomly - 3.8\n",
    "it will remove item from last - 3.6, 3.7"
   ]
  },
  {
   "cell_type": "code",
   "execution_count": 36,
   "id": "d9c52669",
   "metadata": {},
   "outputs": [
    {
     "data": {
      "text/plain": [
       "'Berlin'"
      ]
     },
     "execution_count": 36,
     "metadata": {},
     "output_type": "execute_result"
    }
   ],
   "source": [
    "city_name1 = {\"Tokyo\", \"Madrid\", \"Berlin\", \"Delhi\"}\n",
    "city_name1.pop()"
   ]
  },
  {
   "cell_type": "code",
   "execution_count": 35,
   "id": "389356ed",
   "metadata": {},
   "outputs": [
    {
     "name": "stdout",
     "output_type": "stream",
     "text": [
      "{'Berlin', 'Madrid', 'Tokyo', 'Delhi'}\n"
     ]
    }
   ],
   "source": [
    "print(city_name1)"
   ]
  },
  {
   "cell_type": "code",
   "execution_count": 37,
   "id": "d1a408a9",
   "metadata": {},
   "outputs": [
    {
     "data": {
      "text/plain": [
       "{'Delhi', 'Madrid', 'Tokyo'}"
      ]
     },
     "execution_count": 37,
     "metadata": {},
     "output_type": "execute_result"
    }
   ],
   "source": [
    "city_name1"
   ]
  },
  {
   "cell_type": "code",
   "execution_count": 38,
   "id": "877a3dc0",
   "metadata": {},
   "outputs": [
    {
     "data": {
      "text/plain": [
       "{'Madrid', 'Tokyo', 'delhi'}"
      ]
     },
     "execution_count": 38,
     "metadata": {},
     "output_type": "execute_result"
    }
   ],
   "source": [
    "city_name1={'Tokyo','Madrid','delhi','mumbai'}\n",
    "\n",
    "city_name1.pop()\n",
    "city_name1\n"
   ]
  },
  {
   "cell_type": "code",
   "execution_count": 44,
   "id": "70373aeb",
   "metadata": {},
   "outputs": [
    {
     "data": {
      "text/plain": [
       "{'Madrid', 'delhi', 'mumbai'}"
      ]
     },
     "execution_count": 44,
     "metadata": {},
     "output_type": "execute_result"
    }
   ],
   "source": [
    "city_name1={'Tokyo','Madrid','delhi','mumbai'}\n",
    "\n",
    "city_name1 = list(city_name1)\n",
    "city_name1.pop()\n",
    "city_name1\n",
    "city_name1 = set(city_name1)\n",
    "city_name1\n"
   ]
  },
  {
   "cell_type": "markdown",
   "id": "107b53b4",
   "metadata": {},
   "source": [
    "## clear()"
   ]
  },
  {
   "cell_type": "code",
   "execution_count": 45,
   "id": "08cd0a31",
   "metadata": {},
   "outputs": [],
   "source": [
    "city_name1={'Tokyo','Madrid','delhi','mumbai'}\n",
    "city_name1.clear()"
   ]
  },
  {
   "cell_type": "code",
   "execution_count": 46,
   "id": "218809e5",
   "metadata": {},
   "outputs": [
    {
     "data": {
      "text/plain": [
       "set()"
      ]
     },
     "execution_count": 46,
     "metadata": {},
     "output_type": "execute_result"
    }
   ],
   "source": [
    "city_name1"
   ]
  },
  {
   "cell_type": "markdown",
   "id": "dde17594",
   "metadata": {},
   "source": [
    "for more maupulation\n",
    "\n",
    "Type casting --->recommeded"
   ]
  },
  {
   "cell_type": "markdown",
   "id": "162b2f33",
   "metadata": {},
   "source": [
    "### enumerate"
   ]
  },
  {
   "cell_type": "code",
   "execution_count": 53,
   "id": "762b9e87",
   "metadata": {},
   "outputs": [],
   "source": [
    "name = ['bappy', 'sunny', 'krish', 'krish']"
   ]
  },
  {
   "cell_type": "code",
   "execution_count": 54,
   "id": "79e37e85",
   "metadata": {},
   "outputs": [
    {
     "name": "stdout",
     "output_type": "stream",
     "text": [
      "0 bappy\n",
      "1 sunny\n",
      "2 krish\n",
      "3 krish\n"
     ]
    }
   ],
   "source": [
    "for i in range(len(name)):\n",
    "    print(i, name[i])"
   ]
  },
  {
   "cell_type": "code",
   "execution_count": 52,
   "id": "621c92a5",
   "metadata": {},
   "outputs": [
    {
     "name": "stdout",
     "output_type": "stream",
     "text": [
      "(0, 'bappy')\n",
      "(1, 'sunny')\n",
      "(2, 'krish')\n"
     ]
    }
   ],
   "source": [
    "for i in enumerate(name):\n",
    "    print(i)"
   ]
  },
  {
   "cell_type": "code",
   "execution_count": 50,
   "id": "2487feaa",
   "metadata": {},
   "outputs": [
    {
     "name": "stdout",
     "output_type": "stream",
     "text": [
      "0 bappy\n",
      "1 sunny\n",
      "2 krish\n"
     ]
    }
   ],
   "source": [
    "for i,j in enumerate(name):\n",
    "    print(i,j)"
   ]
  },
  {
   "cell_type": "code",
   "execution_count": 55,
   "id": "e3e7e035",
   "metadata": {},
   "outputs": [],
   "source": [
    "d = {\"name\": \"bappy\", \"roll\":45}"
   ]
  },
  {
   "cell_type": "code",
   "execution_count": 56,
   "id": "275e6847",
   "metadata": {},
   "outputs": [
    {
     "name": "stdout",
     "output_type": "stream",
     "text": [
      "(0, 'name')\n",
      "(1, 'roll')\n"
     ]
    }
   ],
   "source": [
    "for i in enumerate(d):\n",
    "    print(i)"
   ]
  },
  {
   "cell_type": "code",
   "execution_count": 59,
   "id": "47eb2a25",
   "metadata": {},
   "outputs": [
    {
     "data": {
      "text/plain": [
       "'krishna'"
      ]
     },
     "execution_count": 59,
     "metadata": {},
     "output_type": "execute_result"
    }
   ],
   "source": [
    "name = ['krishna','bavan','sunny','modi']\n",
    "name[0]"
   ]
  },
  {
   "cell_type": "code",
   "execution_count": 60,
   "id": "528e18c3",
   "metadata": {},
   "outputs": [
    {
     "name": "stdout",
     "output_type": "stream",
     "text": [
      "0 sunny\n",
      "1 modi\n",
      "2 bavan\n",
      "3 krishna\n"
     ]
    }
   ],
   "source": [
    "name = {'krishna','bavan','sunny','modi'}\n",
    "name = list(name)\n",
    "for i in range(len(name)):\n",
    "    print(i,name[i])\n"
   ]
  },
  {
   "cell_type": "code",
   "execution_count": 62,
   "id": "5e898558",
   "metadata": {},
   "outputs": [
    {
     "name": "stdout",
     "output_type": "stream",
     "text": [
      "0\n",
      "1\n",
      "2\n",
      "3\n",
      "4\n",
      "5\n",
      "6\n",
      "7\n",
      "8\n",
      "9\n"
     ]
    }
   ],
   "source": [
    "for i in range(10):\n",
    "    print(i)"
   ]
  },
  {
   "cell_type": "code",
   "execution_count": null,
   "id": "265cb0b6",
   "metadata": {},
   "outputs": [],
   "source": []
  }
 ],
 "metadata": {
  "kernelspec": {
   "display_name": "Python 3 (ipykernel)",
   "language": "python",
   "name": "python3"
  },
  "language_info": {
   "codemirror_mode": {
    "name": "ipython",
    "version": 3
   },
   "file_extension": ".py",
   "mimetype": "text/x-python",
   "name": "python",
   "nbconvert_exporter": "python",
   "pygments_lexer": "ipython3",
   "version": "3.9.12"
  }
 },
 "nbformat": 4,
 "nbformat_minor": 5
}
