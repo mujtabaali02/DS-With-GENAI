{
 "cells": [
  {
   "cell_type": "code",
   "execution_count": null,
   "id": "391da5ba",
   "metadata": {},
   "outputs": [],
   "source": [
    "50 empoly , 40 -> Bappy \n",
    "10 - "
   ]
  },
  {
   "cell_type": "code",
   "execution_count": 1,
   "id": "7dfe873c",
   "metadata": {},
   "outputs": [],
   "source": [
    "good_pyton_dev = [\"bappy\", \"bappy\", 'bappy']"
   ]
  },
  {
   "cell_type": "code",
   "execution_count": 2,
   "id": "470157e1",
   "metadata": {},
   "outputs": [
    {
     "data": {
      "text/plain": [
       "['bappy', 'bappy', 'bappy']"
      ]
     },
     "execution_count": 2,
     "metadata": {},
     "output_type": "execute_result"
    }
   ],
   "source": [
    "good_pyton_dev"
   ]
  },
  {
   "cell_type": "code",
   "execution_count": 7,
   "id": "2d7385fd",
   "metadata": {},
   "outputs": [],
   "source": [
    "info = {\"bappy\", \"bappy\", 'bappy', \"sunny\", 'kumer'}"
   ]
  },
  {
   "cell_type": "code",
   "execution_count": 8,
   "id": "0fc1a4e6",
   "metadata": {},
   "outputs": [
    {
     "data": {
      "text/plain": [
       "{'bappy', 'kumer', 'sunny'}"
      ]
     },
     "execution_count": 8,
     "metadata": {},
     "output_type": "execute_result"
    }
   ],
   "source": [
    "info"
   ]
  },
  {
   "cell_type": "code",
   "execution_count": 9,
   "id": "3b1f88ac",
   "metadata": {},
   "outputs": [
    {
     "ename": "TypeError",
     "evalue": "'set' object is not subscriptable",
     "output_type": "error",
     "traceback": [
      "\u001b[1;31m---------------------------------------------------------------------------\u001b[0m",
      "\u001b[1;31mTypeError\u001b[0m                                 Traceback (most recent call last)",
      "Input \u001b[1;32mIn [9]\u001b[0m, in \u001b[0;36m<cell line: 1>\u001b[1;34m()\u001b[0m\n\u001b[1;32m----> 1\u001b[0m \u001b[43minfo\u001b[49m\u001b[43m[\u001b[49m\u001b[38;5;241;43m0\u001b[39;49m\u001b[43m]\u001b[49m\n",
      "\u001b[1;31mTypeError\u001b[0m: 'set' object is not subscriptable"
     ]
    }
   ],
   "source": [
    "info[0]"
   ]
  },
  {
   "cell_type": "code",
   "execution_count": 11,
   "id": "ed5abb51",
   "metadata": {},
   "outputs": [
    {
     "data": {
      "text/plain": [
       "['bappy', 'sunny', 'kumer']"
      ]
     },
     "execution_count": 11,
     "metadata": {},
     "output_type": "execute_result"
    }
   ],
   "source": [
    "info = list(info)\n",
    "info"
   ]
  },
  {
   "cell_type": "code",
   "execution_count": 12,
   "id": "b41c2f88",
   "metadata": {},
   "outputs": [
    {
     "data": {
      "text/plain": [
       "'bappy'"
      ]
     },
     "execution_count": 12,
     "metadata": {},
     "output_type": "execute_result"
    }
   ],
   "source": [
    "info[0]"
   ]
  },
  {
   "cell_type": "code",
   "execution_count": 13,
   "id": "c4a91d41",
   "metadata": {},
   "outputs": [],
   "source": [
    "info = {\"bappy\", \"bappy\", 'bappy', \"sunny\", 'kumer'}"
   ]
  },
  {
   "cell_type": "code",
   "execution_count": 14,
   "id": "c3a399b5",
   "metadata": {},
   "outputs": [
    {
     "name": "stdout",
     "output_type": "stream",
     "text": [
      "bappy\n",
      "sunny\n",
      "kumer\n"
     ]
    }
   ],
   "source": [
    "for data in info:\n",
    "    print(data)"
   ]
  },
  {
   "cell_type": "code",
   "execution_count": 16,
   "id": "234b0a85",
   "metadata": {},
   "outputs": [
    {
     "ename": "AttributeError",
     "evalue": "'set' object has no attribute 'append'",
     "output_type": "error",
     "traceback": [
      "\u001b[1;31m---------------------------------------------------------------------------\u001b[0m",
      "\u001b[1;31mAttributeError\u001b[0m                            Traceback (most recent call last)",
      "Input \u001b[1;32mIn [16]\u001b[0m, in \u001b[0;36m<cell line: 1>\u001b[1;34m()\u001b[0m\n\u001b[1;32m----> 1\u001b[0m \u001b[43minfo\u001b[49m\u001b[38;5;241;43m.\u001b[39;49m\u001b[43mappend\u001b[49m(\u001b[38;5;124m\"\u001b[39m\u001b[38;5;124mKrish\u001b[39m\u001b[38;5;124m\"\u001b[39m)\n",
      "\u001b[1;31mAttributeError\u001b[0m: 'set' object has no attribute 'append'"
     ]
    }
   ],
   "source": [
    "info.append(\"Krish\")"
   ]
  },
  {
   "cell_type": "code",
   "execution_count": 17,
   "id": "86f44714",
   "metadata": {},
   "outputs": [],
   "source": [
    "name = {}"
   ]
  },
  {
   "cell_type": "code",
   "execution_count": 18,
   "id": "3e888285",
   "metadata": {},
   "outputs": [
    {
     "data": {
      "text/plain": [
       "dict"
      ]
     },
     "execution_count": 18,
     "metadata": {},
     "output_type": "execute_result"
    }
   ],
   "source": [
    "type(name)"
   ]
  },
  {
   "cell_type": "code",
   "execution_count": 19,
   "id": "a343e04f",
   "metadata": {},
   "outputs": [],
   "source": [
    "name = set()"
   ]
  },
  {
   "cell_type": "code",
   "execution_count": 20,
   "id": "72bbf876",
   "metadata": {},
   "outputs": [
    {
     "data": {
      "text/plain": [
       "set"
      ]
     },
     "execution_count": 20,
     "metadata": {},
     "output_type": "execute_result"
    }
   ],
   "source": [
    "type(name)"
   ]
  },
  {
   "cell_type": "code",
   "execution_count": 21,
   "id": "f943bd00",
   "metadata": {},
   "outputs": [],
   "source": [
    "info = {\"bappy\", \"bappy\", 'bappy', \"sunny\", 'kumer'}"
   ]
  },
  {
   "cell_type": "code",
   "execution_count": 22,
   "id": "1e84ed71",
   "metadata": {},
   "outputs": [
    {
     "ename": "TypeError",
     "evalue": "'set' object does not support item assignment",
     "output_type": "error",
     "traceback": [
      "\u001b[1;31m---------------------------------------------------------------------------\u001b[0m",
      "\u001b[1;31mTypeError\u001b[0m                                 Traceback (most recent call last)",
      "Input \u001b[1;32mIn [22]\u001b[0m, in \u001b[0;36m<cell line: 1>\u001b[1;34m()\u001b[0m\n\u001b[1;32m----> 1\u001b[0m info[\u001b[38;5;241m0\u001b[39m] \u001b[38;5;241m=\u001b[39m \u001b[38;5;124m\"\u001b[39m\u001b[38;5;124mAlex\u001b[39m\u001b[38;5;124m\"\u001b[39m\n",
      "\u001b[1;31mTypeError\u001b[0m: 'set' object does not support item assignment"
     ]
    }
   ],
   "source": [
    "info[0] = \"Alex\""
   ]
  },
  {
   "cell_type": "code",
   "execution_count": 23,
   "id": "f8ab047d",
   "metadata": {},
   "outputs": [],
   "source": [
    "info.add(\"alex\")"
   ]
  },
  {
   "cell_type": "code",
   "execution_count": 24,
   "id": "d5c0c697",
   "metadata": {},
   "outputs": [
    {
     "data": {
      "text/plain": [
       "{'alex', 'bappy', 'kumer', 'sunny'}"
      ]
     },
     "execution_count": 24,
     "metadata": {},
     "output_type": "execute_result"
    }
   ],
   "source": [
    "info"
   ]
  },
  {
   "cell_type": "code",
   "execution_count": 25,
   "id": "4a7c9d50",
   "metadata": {},
   "outputs": [],
   "source": [
    "s = {'a','a',1,0.2,True,False}"
   ]
  },
  {
   "cell_type": "code",
   "execution_count": 26,
   "id": "ddc333ee",
   "metadata": {},
   "outputs": [
    {
     "data": {
      "text/plain": [
       "{0.2, 1, False, 'a'}"
      ]
     },
     "execution_count": 26,
     "metadata": {},
     "output_type": "execute_result"
    }
   ],
   "source": [
    "s"
   ]
  },
  {
   "cell_type": "code",
   "execution_count": null,
   "id": "3fc726e8",
   "metadata": {},
   "outputs": [],
   "source": [
    "s = {'a','a',1,0.2,True,False}"
   ]
  },
  {
   "cell_type": "code",
   "execution_count": 27,
   "id": "beaea290",
   "metadata": {},
   "outputs": [
    {
     "data": {
      "text/plain": [
       "{True}"
      ]
     },
     "execution_count": 27,
     "metadata": {},
     "output_type": "execute_result"
    }
   ],
   "source": [
    "s = {True}\n",
    "s"
   ]
  },
  {
   "cell_type": "code",
   "execution_count": 30,
   "id": "b025e930",
   "metadata": {},
   "outputs": [
    {
     "data": {
      "text/plain": [
       "{1}"
      ]
     },
     "execution_count": 30,
     "metadata": {},
     "output_type": "execute_result"
    }
   ],
   "source": [
    "s= {1,True}\n",
    "s"
   ]
  },
  {
   "cell_type": "code",
   "execution_count": null,
   "id": "e406b976",
   "metadata": {},
   "outputs": [],
   "source": [
    "Flase - 0\n",
    "True - 1"
   ]
  },
  {
   "cell_type": "markdown",
   "id": "0390625a",
   "metadata": {},
   "source": [
    "## Tools to donwload:\n",
    "\n",
    "- Anaconda = https://www.anaconda.com/download/success\n",
    "- Git bash = https://git-scm.com/\n",
    "- VS Code = https://code.visualstudio.com/download"
   ]
  },
  {
   "cell_type": "code",
   "execution_count": 31,
   "id": "508c04cb",
   "metadata": {},
   "outputs": [],
   "source": [
    "info = {\"bappy\", \"bappy\", 'bappy', \"sunny\", 'kumer'}"
   ]
  },
  {
   "cell_type": "code",
   "execution_count": 33,
   "id": "f97bb662",
   "metadata": {},
   "outputs": [
    {
     "ename": "TypeError",
     "evalue": "'set' object does not support item assignment",
     "output_type": "error",
     "traceback": [
      "\u001b[1;31m---------------------------------------------------------------------------\u001b[0m",
      "\u001b[1;31mTypeError\u001b[0m                                 Traceback (most recent call last)",
      "Input \u001b[1;32mIn [33]\u001b[0m, in \u001b[0;36m<cell line: 1>\u001b[1;34m()\u001b[0m\n\u001b[1;32m----> 1\u001b[0m info[\u001b[38;5;241m0\u001b[39m] \u001b[38;5;241m=\u001b[39m  \u001b[38;5;124m\"\u001b[39m\u001b[38;5;124mKran\u001b[39m\u001b[38;5;124m\"\u001b[39m\n",
      "\u001b[1;31mTypeError\u001b[0m: 'set' object does not support item assignment"
     ]
    }
   ],
   "source": [
    "info[0] =  \"Kran\""
   ]
  },
  {
   "cell_type": "code",
   "execution_count": 34,
   "id": "260fe371",
   "metadata": {},
   "outputs": [],
   "source": [
    "info = [\"bappy\", \"bappy\", 'bappy', \"sunny\", 'kumer']"
   ]
  },
  {
   "cell_type": "code",
   "execution_count": 35,
   "id": "dec97df1",
   "metadata": {},
   "outputs": [],
   "source": [
    "info[0] =  \"Kran\""
   ]
  },
  {
   "cell_type": "code",
   "execution_count": 36,
   "id": "03edc59f",
   "metadata": {},
   "outputs": [
    {
     "data": {
      "text/plain": [
       "['Kran', 'bappy', 'bappy', 'sunny', 'kumer']"
      ]
     },
     "execution_count": 36,
     "metadata": {},
     "output_type": "execute_result"
    }
   ],
   "source": [
    "info"
   ]
  },
  {
   "cell_type": "code",
   "execution_count": null,
   "id": "541b2d4b",
   "metadata": {},
   "outputs": [],
   "source": []
  }
 ],
 "metadata": {
  "kernelspec": {
   "display_name": "Python 3 (ipykernel)",
   "language": "python",
   "name": "python3"
  },
  "language_info": {
   "codemirror_mode": {
    "name": "ipython",
    "version": 3
   },
   "file_extension": ".py",
   "mimetype": "text/x-python",
   "name": "python",
   "nbconvert_exporter": "python",
   "pygments_lexer": "ipython3",
   "version": "3.9.12"
  }
 },
 "nbformat": 4,
 "nbformat_minor": 5
}
